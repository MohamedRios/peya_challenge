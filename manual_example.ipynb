{
 "cells": [
  {
   "cell_type": "code",
   "execution_count": 3,
   "id": "f583d24d",
   "metadata": {},
   "outputs": [],
   "source": [
    "import pandas as pd\n",
    "import numpy as np\n",
    "from flask import Flask, request, jsonify\n",
    "import pickle\n",
    "import yaml\n",
    "from yaml.loader import SafeLoader\n",
    "from sklearn.pipeline import make_pipeline\n",
    "from sklearn.compose import make_column_transformer\n",
    "from sklearn.preprocessing import StandardScaler\n",
    "from sklearn.preprocessing import Normalizer\n",
    "from sklearn.preprocessing import OneHotEncoder\n",
    "from utils.preprocess import Pipeline\n",
    "from utils.experiment_1_features import *\n",
    "\n",
    "import json"
   ]
  },
  {
   "cell_type": "code",
   "execution_count": 4,
   "id": "8709ac0d",
   "metadata": {},
   "outputs": [],
   "source": [
    "# Obtener parámetros\n",
    "def get_params(resources_path = 'models/prod/params.yaml'):\n",
    "    with open(resources_path, 'r') as f:\n",
    "        resources = yaml.load(f, Loader=SafeLoader)\n",
    "    return resources\n",
    "\n",
    "\n",
    "# Carga de artefacto\n",
    "def get_artifact(path):\n",
    "    with open(path, 'rb') as infile:\n",
    "        artifact = pickle.load(infile)\n",
    "    return artifact\n",
    "\n",
    "\n",
    "def process_input_data(data):\n",
    "    data = pipeline.apply(data, params)\n",
    "    data = scikit_pipeline.transform(data)\n",
    "    return data"
   ]
  },
  {
   "cell_type": "code",
   "execution_count": 5,
   "id": "8347a67b",
   "metadata": {},
   "outputs": [],
   "source": [
    "# Guardo el modelo y el pipeline para hacer las predicciones\n",
    "params = get_params()\n",
    "model = get_artifact(params.get('prod_model_path'))\n",
    "pipeline = get_artifact(params.get('prod_pipeline_path'))\n",
    "scikit_pipeline = get_artifact(params.get('prod_scikit_pipeline_path'))"
   ]
  },
  {
   "cell_type": "code",
   "execution_count": 10,
   "id": "66881c07",
   "metadata": {},
   "outputs": [],
   "source": [
    "def predict():\n",
    "    data = json.loads(\n",
    "    '''{\n",
    "        \"ano_de_construccion\": [1991.0],\n",
    "        \"banos\": [1.0],\n",
    "        \"disposicion\": [\"contrafrente\"],\n",
    "        \"dormitorios\": [1.0],\n",
    "        \"estado\": [\"excelente estado\"],\n",
    "        \"garajes\": [0.0],\n",
    "        \"gastos_comunes\": [5000.0],\n",
    "        \"m2_de_la_terraza\": [0.0],\n",
    "        \"m2_del_terreno\": [45.0],\n",
    "        \"m2_edificados\": [45.0],\n",
    "        \"tipo_propiedad\": [\"apartamentos\"],\n",
    "        \"vivienda_social\": [0.0],\n",
    "        \"zona\": [\"punta carretas\"]\n",
    "    }''')\n",
    "    \n",
    "    # Transformación de los datos de entrada\n",
    "    data = pd.DataFrame.from_dict(data)\n",
    "    data = process_input_data(data)   \n",
    "    \n",
    "    print(data)\n",
    "\n",
    "    # Predicción\n",
    "    prediction = model.predict(data)[0]\n",
    "    if prediction <= 0:\n",
    "        prediction = 0\n",
    "        \n",
    "    print(prediction)\n",
    "\n",
    "    return"
   ]
  },
  {
   "cell_type": "code",
   "execution_count": 11,
   "id": "38ff2050",
   "metadata": {},
   "outputs": [
    {
     "name": "stdout",
     "output_type": "stream",
     "text": [
      "[[ 1.          0.          0.          1.          0.          0.\n",
      "   0.          0.          1.          1.          0.          0.\n",
      "   0.          0.          0.          1.          0.          0.\n",
      "   1.          0.          0.         -0.70546342  0.11078803  0.00899964\n",
      "   0.9999595 ]]\n",
      "178639.52070061822\n"
     ]
    }
   ],
   "source": [
    "predict()"
   ]
  }
 ],
 "metadata": {
  "kernelspec": {
   "display_name": "Python 3",
   "language": "python",
   "name": "python3"
  },
  "language_info": {
   "codemirror_mode": {
    "name": "ipython",
    "version": 3
   },
   "file_extension": ".py",
   "mimetype": "text/x-python",
   "name": "python",
   "nbconvert_exporter": "python",
   "pygments_lexer": "ipython3",
   "version": "3.8.8"
  }
 },
 "nbformat": 4,
 "nbformat_minor": 5
}
