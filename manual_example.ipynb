{
 "cells": [
  {
   "cell_type": "code",
   "execution_count": 1,
   "id": "f583d24d",
   "metadata": {},
   "outputs": [],
   "source": [
    "import pandas as pd\n",
    "import numpy as np\n",
    "from flask import Flask, request, jsonify\n",
    "import pickle\n",
    "import yaml\n",
    "from yaml.loader import SafeLoader\n",
    "import utils.preprocess as p\n",
    "from sklearn.pipeline import make_pipeline\n",
    "from sklearn.compose import make_column_transformer\n",
    "from sklearn.preprocessing import StandardScaler\n",
    "from sklearn.preprocessing import Normalizer\n",
    "from sklearn.preprocessing import OneHotEncoder\n",
    "\n",
    "import json"
   ]
  },
  {
   "cell_type": "code",
   "execution_count": 2,
   "id": "279c372c",
   "metadata": {},
   "outputs": [],
   "source": [
    "def get_params(resources_path = 'models/resources.yaml'):\n",
    "    with open(resources_path, 'r') as f:\n",
    "        resources = yaml.load(f, Loader=SafeLoader)\n",
    "    return resources.get('preprocess_params')"
   ]
  },
  {
   "cell_type": "code",
   "execution_count": 3,
   "id": "d839364c",
   "metadata": {},
   "outputs": [],
   "source": [
    "def get_model(resources_path = 'models/resources.yaml'):\n",
    "    with open(resources_path, 'r') as f:\n",
    "        resources = yaml.load(f, Loader=SafeLoader)\n",
    "        path = resources.get('prod_model_path')\n",
    "    with open('models/' + path, 'rb') as infile:\n",
    "        model = pickle.load(infile)\n",
    "    return model"
   ]
  },
  {
   "cell_type": "code",
   "execution_count": 4,
   "id": "8709ac0d",
   "metadata": {},
   "outputs": [],
   "source": [
    "def get_pipeline(resources_path = 'models/resources.yaml'):\n",
    "    with open(resources_path, 'r') as f:\n",
    "        resources = yaml.load(f, Loader=SafeLoader)\n",
    "        path = resources.get('prod_pipeline_path')\n",
    "    with open('models/' + path, 'rb') as infile:\n",
    "        pipeline = pickle.load(infile)\n",
    "    return pipeline"
   ]
  },
  {
   "cell_type": "code",
   "execution_count": 5,
   "id": "83529d3e",
   "metadata": {},
   "outputs": [],
   "source": [
    "def process_input_data(data):\n",
    "    preprocess_f_list = [p.create_country_features,\n",
    "                         p.create_source_features, p.create_platform_features, p.create_device_features,\n",
    "                         p.create_event_1_flag, p.create_event_2_flag, p.drop_metadata_columns\n",
    "    ]\n",
    "    data = p.apply_pipeline(preprocess_f_list, data, params)\n",
    "    return pipeline.transform(data)"
   ]
  },
  {
   "cell_type": "code",
   "execution_count": 6,
   "id": "8347a67b",
   "metadata": {},
   "outputs": [],
   "source": [
    "model = get_model()\n",
    "pipeline = get_pipeline()\n",
    "params = get_params()"
   ]
  },
  {
   "cell_type": "code",
   "execution_count": 11,
   "id": "66881c07",
   "metadata": {},
   "outputs": [],
   "source": [
    "def predict():\n",
    "    data = json.loads(\n",
    "    '''{\n",
    "    \"user_id\": [\"abc\"],\n",
    "    \"country\": [\"ar\"],\n",
    "    \"source\": [\"Organic\"],\n",
    "    \"platform\": [\"ios\"],\n",
    "    \"device_family\": [\"Samsung Galaxy Tab\"],\n",
    "    \"event_1\": [10],\n",
    "    \"event_2\": [1]\n",
    "    }''')\n",
    "    \n",
    "    # Transformación de los datos de entrada\n",
    "    data = pd.DataFrame.from_dict(data)\n",
    "    data = process_input_data(data)   \n",
    "    \n",
    "    print(data)\n",
    "\n",
    "    # Predicción\n",
    "    prediction = model.predict(data)[0]\n",
    "    if prediction <= 0:\n",
    "        prediction = 0\n",
    "        \n",
    "    print(prediction)\n",
    "\n",
    "    return"
   ]
  },
  {
   "cell_type": "code",
   "execution_count": 12,
   "id": "38ff2050",
   "metadata": {},
   "outputs": [
    {
     "name": "stdout",
     "output_type": "stream",
     "text": [
      "[[ 1.          0.          0.          0.          0.          0.\n",
      "   0.          0.          0.          0.          0.          0.\n",
      "   0.          0.          0.          0.          0.          0.\n",
      "   1.          0.          1.          1.         -0.38948921 -0.18028864\n",
      "   0.99503719  0.09950372]]\n",
      "0.026006326964222188\n"
     ]
    }
   ],
   "source": [
    "predict()"
   ]
  },
  {
   "cell_type": "code",
   "execution_count": null,
   "id": "b53b8761",
   "metadata": {},
   "outputs": [],
   "source": []
  }
 ],
 "metadata": {
  "kernelspec": {
   "display_name": "Python 3",
   "language": "python",
   "name": "python3"
  },
  "language_info": {
   "codemirror_mode": {
    "name": "ipython",
    "version": 3
   },
   "file_extension": ".py",
   "mimetype": "text/x-python",
   "name": "python",
   "nbconvert_exporter": "python",
   "pygments_lexer": "ipython3",
   "version": "3.8.8"
  }
 },
 "nbformat": 4,
 "nbformat_minor": 5
}
