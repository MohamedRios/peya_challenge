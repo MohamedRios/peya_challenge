{
 "cells": [
  {
   "cell_type": "code",
   "execution_count": 1,
   "id": "2b07bca6",
   "metadata": {},
   "outputs": [],
   "source": [
    "import pandas as pd\n",
    "import numpy as np\n",
    "import yaml\n",
    "from yaml.loader import SafeLoader\n",
    "import os\n",
    "import warnings\n",
    "import pickle\n",
    "from sklearn.linear_model import LinearRegression\n",
    "from sklearn.ensemble import GradientBoostingRegressor\n",
    "from sklearn.model_selection import RandomizedSearchCV\n",
    "from sklearn.model_selection import KFold\n",
    "from sklearn import metrics\n",
    "from sklearn._config import get_config, set_config\n",
    "\n",
    "pd.options.display.width = 1000\n",
    "warnings.filterwarnings('ignore')"
   ]
  },
  {
   "cell_type": "code",
   "execution_count": 2,
   "id": "8cafcf47",
   "metadata": {},
   "outputs": [],
   "source": [
    "# Cambiamos el directorio de trabajo a la carpeta models\n",
    "os.chdir('../../..')"
   ]
  },
  {
   "cell_type": "code",
   "execution_count": 3,
   "id": "b78adf07",
   "metadata": {},
   "outputs": [
    {
     "name": "stdout",
     "output_type": "stream",
     "text": [
      "Directorio: /Users/mohamed.rios/Projects/desafio_peya\n"
     ]
    }
   ],
   "source": [
    "print(\"Directorio: {0}\".format(os.getcwd()))"
   ]
  },
  {
   "cell_type": "markdown",
   "id": "30f68bf2",
   "metadata": {},
   "source": [
    "# Leemos archivo de parámetros"
   ]
  },
  {
   "cell_type": "code",
   "execution_count": 4,
   "id": "ce03dd8f",
   "metadata": {},
   "outputs": [],
   "source": [
    "with open('models/stg/experiment_1/params.yaml') as f:\n",
    "    params = yaml.load(f, Loader=SafeLoader)"
   ]
  },
  {
   "cell_type": "markdown",
   "id": "26e9672f",
   "metadata": {},
   "source": [
    "# Leemos los datasets para entrenar"
   ]
  },
  {
   "cell_type": "code",
   "execution_count": 5,
   "id": "952ec3d8",
   "metadata": {},
   "outputs": [],
   "source": [
    "x_train = pd.read_csv(params.get('x_train_path'))\n",
    "y_train = pd.read_csv(params.get('y_train_path'))"
   ]
  },
  {
   "cell_type": "markdown",
   "id": "e82a068a",
   "metadata": {},
   "source": [
    "# Entrenamiento de modelos"
   ]
  },
  {
   "cell_type": "code",
   "execution_count": 6,
   "id": "aca061ae",
   "metadata": {},
   "outputs": [],
   "source": [
    "lr = LinearRegression()\n",
    "xgb = GradientBoostingRegressor()\n",
    "models = []"
   ]
  },
  {
   "cell_type": "code",
   "execution_count": 7,
   "id": "a187d547",
   "metadata": {},
   "outputs": [],
   "source": [
    "set_config(print_changed_only=False)"
   ]
  },
  {
   "cell_type": "markdown",
   "id": "bf00fc8f",
   "metadata": {},
   "source": [
    "### Linear regression"
   ]
  },
  {
   "cell_type": "code",
   "execution_count": 8,
   "id": "dc281339",
   "metadata": {},
   "outputs": [
    {
     "data": {
      "text/plain": [
       "LinearRegression(copy_X=True, fit_intercept=True, n_jobs=None, normalize=False,\n",
       "                 positive=False)"
      ]
     },
     "execution_count": 8,
     "metadata": {},
     "output_type": "execute_result"
    }
   ],
   "source": [
    "lr"
   ]
  },
  {
   "cell_type": "code",
   "execution_count": 9,
   "id": "b11cd5b4",
   "metadata": {},
   "outputs": [],
   "source": [
    "lr_param_dist = dict(normalize=[True, False])"
   ]
  },
  {
   "cell_type": "code",
   "execution_count": 10,
   "id": "abb51d99",
   "metadata": {},
   "outputs": [
    {
     "data": {
      "text/html": [
       "<div>\n",
       "<style scoped>\n",
       "    .dataframe tbody tr th:only-of-type {\n",
       "        vertical-align: middle;\n",
       "    }\n",
       "\n",
       "    .dataframe tbody tr th {\n",
       "        vertical-align: top;\n",
       "    }\n",
       "\n",
       "    .dataframe thead th {\n",
       "        text-align: right;\n",
       "    }\n",
       "</style>\n",
       "<table border=\"1\" class=\"dataframe\">\n",
       "  <thead>\n",
       "    <tr style=\"text-align: right;\">\n",
       "      <th></th>\n",
       "      <th>mean_test_score</th>\n",
       "      <th>std_test_score</th>\n",
       "      <th>params</th>\n",
       "    </tr>\n",
       "  </thead>\n",
       "  <tbody>\n",
       "    <tr>\n",
       "      <th>0</th>\n",
       "      <td>0.727225</td>\n",
       "      <td>0.016053</td>\n",
       "      <td>{'normalize': True}</td>\n",
       "    </tr>\n",
       "    <tr>\n",
       "      <th>1</th>\n",
       "      <td>0.727342</td>\n",
       "      <td>0.016058</td>\n",
       "      <td>{'normalize': False}</td>\n",
       "    </tr>\n",
       "  </tbody>\n",
       "</table>\n",
       "</div>"
      ],
      "text/plain": [
       "   mean_test_score  std_test_score                params\n",
       "0         0.727225        0.016053   {'normalize': True}\n",
       "1         0.727342        0.016058  {'normalize': False}"
      ]
     },
     "execution_count": 10,
     "metadata": {},
     "output_type": "execute_result"
    }
   ],
   "source": [
    "# n_iter para controlar el número de búsquedas\n",
    "rand_lr = RandomizedSearchCV(lr, lr_param_dist, cv=5, scoring='r2', n_iter=20, random_state=5, return_train_score=False)\n",
    "rand_lr.fit(x_train, y_train)\n",
    "pd.DataFrame(rand_lr.cv_results_)[['mean_test_score', 'std_test_score', 'params']]"
   ]
  },
  {
   "cell_type": "markdown",
   "id": "918eb48a",
   "metadata": {},
   "source": [
    "Son prácticamente iguales pero tomaremos el NO normalizado."
   ]
  },
  {
   "cell_type": "code",
   "execution_count": 11,
   "id": "c4b79b67",
   "metadata": {},
   "outputs": [],
   "source": [
    "lr_tunned = LinearRegression(normalize=False)\n",
    "models.append((lr_tunned, 'lr'))"
   ]
  },
  {
   "cell_type": "markdown",
   "id": "03bec045",
   "metadata": {},
   "source": [
    "### Gradient boosting regressor"
   ]
  },
  {
   "cell_type": "code",
   "execution_count": 12,
   "id": "57d9884b",
   "metadata": {},
   "outputs": [
    {
     "data": {
      "text/plain": [
       "GradientBoostingRegressor(alpha=0.9, ccp_alpha=0.0, criterion='friedman_mse',\n",
       "                          init=None, learning_rate=0.1, loss='ls', max_depth=3,\n",
       "                          max_features=None, max_leaf_nodes=None,\n",
       "                          min_impurity_decrease=0.0, min_impurity_split=None,\n",
       "                          min_samples_leaf=1, min_samples_split=2,\n",
       "                          min_weight_fraction_leaf=0.0, n_estimators=100,\n",
       "                          n_iter_no_change=None, random_state=None,\n",
       "                          subsample=1.0, tol=0.0001, validation_fraction=0.1,\n",
       "                          verbose=0, warm_start=False)"
      ]
     },
     "execution_count": 12,
     "metadata": {},
     "output_type": "execute_result"
    }
   ],
   "source": [
    "xgb"
   ]
  },
  {
   "cell_type": "code",
   "execution_count": 13,
   "id": "3dca9151",
   "metadata": {},
   "outputs": [],
   "source": [
    "xgb_param_dist = {'learning_rate': [0.001, 0.01, 0.1],\n",
    "                  'max_depth': [3,4,5,6,7,8],\n",
    "                  'n_estimators': [80, 100, 120]}"
   ]
  },
  {
   "cell_type": "code",
   "execution_count": 14,
   "id": "551d2e4f",
   "metadata": {},
   "outputs": [
    {
     "data": {
      "text/plain": [
       "RandomizedSearchCV(cv=5, error_score=nan,\n",
       "                   estimator=GradientBoostingRegressor(alpha=0.9, ccp_alpha=0.0,\n",
       "                                                       criterion='friedman_mse',\n",
       "                                                       init=None,\n",
       "                                                       learning_rate=0.1,\n",
       "                                                       loss='ls', max_depth=3,\n",
       "                                                       max_features=None,\n",
       "                                                       max_leaf_nodes=None,\n",
       "                                                       min_impurity_decrease=0.0,\n",
       "                                                       min_impurity_split=None,\n",
       "                                                       min_samples_leaf=1,\n",
       "                                                       min_samples_split=2,\n",
       "                                                       min_weight_fraction_leaf=0.0,\n",
       "                                                       n_estimators=100,\n",
       "                                                       n_iter_no_change=None,\n",
       "                                                       random_state=None,\n",
       "                                                       subsample=1.0,\n",
       "                                                       tol=0.0001,\n",
       "                                                       validation_fraction=0.1,\n",
       "                                                       verbose=0,\n",
       "                                                       warm_start=False),\n",
       "                   n_iter=20, n_jobs=None,\n",
       "                   param_distributions={'learning_rate': [0.001, 0.01, 0.1],\n",
       "                                        'max_depth': [3, 4, 5, 6, 7, 8],\n",
       "                                        'n_estimators': [80, 100, 120]},\n",
       "                   pre_dispatch='2*n_jobs', random_state=5, refit=True,\n",
       "                   return_train_score=False, scoring='r2', verbose=0)"
      ]
     },
     "execution_count": 14,
     "metadata": {},
     "output_type": "execute_result"
    }
   ],
   "source": [
    "# n_iter para controlar el número de búsquedas\n",
    "rand_xgb = RandomizedSearchCV(xgb, xgb_param_dist, cv=5, scoring='r2', n_iter=20, random_state=5, return_train_score=False)\n",
    "rand_xgb.fit(x_train, y_train)"
   ]
  },
  {
   "cell_type": "code",
   "execution_count": 15,
   "id": "fab2a585",
   "metadata": {},
   "outputs": [],
   "source": [
    "df = pd.DataFrame(rand_xgb.cv_results_)[['mean_test_score', 'std_test_score', 'params']]\\\n",
    "        .sort_values(by=['mean_test_score'], ascending=False)"
   ]
  },
  {
   "cell_type": "code",
   "execution_count": 16,
   "id": "e0a5b11c",
   "metadata": {},
   "outputs": [
    {
     "data": {
      "text/html": [
       "<div>\n",
       "<style scoped>\n",
       "    .dataframe tbody tr th:only-of-type {\n",
       "        vertical-align: middle;\n",
       "    }\n",
       "\n",
       "    .dataframe tbody tr th {\n",
       "        vertical-align: top;\n",
       "    }\n",
       "\n",
       "    .dataframe thead th {\n",
       "        text-align: right;\n",
       "    }\n",
       "</style>\n",
       "<table border=\"1\" class=\"dataframe\">\n",
       "  <thead>\n",
       "    <tr style=\"text-align: right;\">\n",
       "      <th></th>\n",
       "      <th>mean_test_score</th>\n",
       "      <th>std_test_score</th>\n",
       "      <th>params</th>\n",
       "    </tr>\n",
       "  </thead>\n",
       "  <tbody>\n",
       "    <tr>\n",
       "      <th>1</th>\n",
       "      <td>0.788807</td>\n",
       "      <td>0.021695</td>\n",
       "      <td>{'n_estimators': 100, 'max_depth': 4, 'learnin...</td>\n",
       "    </tr>\n",
       "    <tr>\n",
       "      <th>13</th>\n",
       "      <td>0.780360</td>\n",
       "      <td>0.020313</td>\n",
       "      <td>{'n_estimators': 80, 'max_depth': 6, 'learning...</td>\n",
       "    </tr>\n",
       "    <tr>\n",
       "      <th>9</th>\n",
       "      <td>0.776381</td>\n",
       "      <td>0.020124</td>\n",
       "      <td>{'n_estimators': 100, 'max_depth': 6, 'learnin...</td>\n",
       "    </tr>\n",
       "    <tr>\n",
       "      <th>5</th>\n",
       "      <td>0.763804</td>\n",
       "      <td>0.023666</td>\n",
       "      <td>{'n_estimators': 80, 'max_depth': 8, 'learning...</td>\n",
       "    </tr>\n",
       "    <tr>\n",
       "      <th>19</th>\n",
       "      <td>0.760197</td>\n",
       "      <td>0.025116</td>\n",
       "      <td>{'n_estimators': 100, 'max_depth': 8, 'learnin...</td>\n",
       "    </tr>\n",
       "  </tbody>\n",
       "</table>\n",
       "</div>"
      ],
      "text/plain": [
       "    mean_test_score  std_test_score                                             params\n",
       "1          0.788807        0.021695  {'n_estimators': 100, 'max_depth': 4, 'learnin...\n",
       "13         0.780360        0.020313  {'n_estimators': 80, 'max_depth': 6, 'learning...\n",
       "9          0.776381        0.020124  {'n_estimators': 100, 'max_depth': 6, 'learnin...\n",
       "5          0.763804        0.023666  {'n_estimators': 80, 'max_depth': 8, 'learning...\n",
       "19         0.760197        0.025116  {'n_estimators': 100, 'max_depth': 8, 'learnin..."
      ]
     },
     "execution_count": 16,
     "metadata": {},
     "output_type": "execute_result"
    }
   ],
   "source": [
    "df.head(5)"
   ]
  },
  {
   "cell_type": "code",
   "execution_count": 17,
   "id": "6f24307b",
   "metadata": {},
   "outputs": [
    {
     "data": {
      "text/plain": [
       "{'n_estimators': 80, 'max_depth': 6, 'learning_rate': 0.1}"
      ]
     },
     "execution_count": 17,
     "metadata": {},
     "output_type": "execute_result"
    }
   ],
   "source": [
    "df.iloc[1].params"
   ]
  },
  {
   "cell_type": "code",
   "execution_count": 18,
   "id": "d457592a",
   "metadata": {},
   "outputs": [],
   "source": [
    "xgb_tunned = GradientBoostingRegressor(n_estimators=80, max_depth=6, learning_rate=0.1)\n",
    "models.append((xgb_tunned, 'xgb'))"
   ]
  },
  {
   "cell_type": "markdown",
   "id": "71eb46f9",
   "metadata": {},
   "source": [
    "### Entreno con los mejores hiperparámetros encontrados por cada modelo"
   ]
  },
  {
   "cell_type": "code",
   "execution_count": 19,
   "id": "39bbf603",
   "metadata": {},
   "outputs": [
    {
     "data": {
      "text/plain": [
       "[(LinearRegression(copy_X=True, fit_intercept=True, n_jobs=None, normalize=False,\n",
       "                   positive=False),\n",
       "  'lr'),\n",
       " (GradientBoostingRegressor(alpha=0.9, ccp_alpha=0.0, criterion='friedman_mse',\n",
       "                            init=None, learning_rate=0.1, loss='ls', max_depth=6,\n",
       "                            max_features=None, max_leaf_nodes=None,\n",
       "                            min_impurity_decrease=0.0, min_impurity_split=None,\n",
       "                            min_samples_leaf=1, min_samples_split=2,\n",
       "                            min_weight_fraction_leaf=0.0, n_estimators=80,\n",
       "                            n_iter_no_change=None, random_state=None,\n",
       "                            subsample=1.0, tol=0.0001, validation_fraction=0.1,\n",
       "                            verbose=0, warm_start=False),\n",
       "  'xgb')]"
      ]
     },
     "execution_count": 19,
     "metadata": {},
     "output_type": "execute_result"
    }
   ],
   "source": [
    "models"
   ]
  },
  {
   "cell_type": "code",
   "execution_count": 20,
   "id": "b7089cb8",
   "metadata": {},
   "outputs": [],
   "source": [
    "for m in models:\n",
    "    m[0].fit(x_train, y_train[params.get('target')])"
   ]
  },
  {
   "cell_type": "markdown",
   "id": "a246654a",
   "metadata": {},
   "source": [
    "# Guardo el binario de los modelos"
   ]
  },
  {
   "cell_type": "code",
   "execution_count": 21,
   "id": "7431dd98",
   "metadata": {},
   "outputs": [],
   "source": [
    "for m in models:\n",
    "    with open(params.get('models_artifact_path') + '/' + m[1],'wb') as outfile:\n",
    "        pickle.dump(m[0], outfile)"
   ]
  }
 ],
 "metadata": {
  "kernelspec": {
   "display_name": "Python 3",
   "language": "python",
   "name": "python3"
  },
  "language_info": {
   "codemirror_mode": {
    "name": "ipython",
    "version": 3
   },
   "file_extension": ".py",
   "mimetype": "text/x-python",
   "name": "python",
   "nbconvert_exporter": "python",
   "pygments_lexer": "ipython3",
   "version": "3.8.8"
  }
 },
 "nbformat": 4,
 "nbformat_minor": 5
}
