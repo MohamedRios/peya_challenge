{
 "cells": [
  {
   "cell_type": "code",
   "execution_count": 1,
   "id": "2b07bca6",
   "metadata": {},
   "outputs": [],
   "source": [
    "import pandas as pd\n",
    "import numpy as np\n",
    "import yaml\n",
    "from yaml.loader import SafeLoader\n",
    "import os\n",
    "import warnings\n",
    "import pickle\n",
    "from sklearn.linear_model import LinearRegression\n",
    "from sklearn.ensemble import GradientBoostingRegressor\n",
    "\n",
    "warnings.filterwarnings('ignore')"
   ]
  },
  {
   "cell_type": "code",
   "execution_count": 2,
   "id": "8cafcf47",
   "metadata": {},
   "outputs": [],
   "source": [
    "# Cambiamos el directorio de trabajo a la carpeta models\n",
    "os.chdir('../../')"
   ]
  },
  {
   "cell_type": "code",
   "execution_count": 3,
   "id": "b78adf07",
   "metadata": {},
   "outputs": [
    {
     "name": "stdout",
     "output_type": "stream",
     "text": [
      "Directorio: /Users/mohamed.rios/Projects/desafio_etermax/models\n"
     ]
    }
   ],
   "source": [
    "print(\"Directorio: {0}\".format(os.getcwd()))"
   ]
  },
  {
   "cell_type": "markdown",
   "id": "30f68bf2",
   "metadata": {},
   "source": [
    "# Leemos archivo de parámetros"
   ]
  },
  {
   "cell_type": "code",
   "execution_count": 4,
   "id": "ce03dd8f",
   "metadata": {},
   "outputs": [],
   "source": [
    "with open('resources.yaml') as f:\n",
    "    resources = yaml.load(f, Loader=SafeLoader)\n",
    "    params = resources.get('preprocess_params')\n",
    "    models_path = resources.get('artifact_path')"
   ]
  },
  {
   "cell_type": "markdown",
   "id": "26e9672f",
   "metadata": {},
   "source": [
    "# Leemos los datasets para entrenar"
   ]
  },
  {
   "cell_type": "code",
   "execution_count": 5,
   "id": "952ec3d8",
   "metadata": {},
   "outputs": [],
   "source": [
    "x_train = pd.read_csv(params['x_train_path'])\n",
    "x_test = pd.read_csv(params['x_test_path'])\n",
    "y_train = pd.read_csv(params['y_train_path'])\n",
    "y_test = pd.read_csv(params['y_test_path'])"
   ]
  },
  {
   "cell_type": "markdown",
   "id": "e82a068a",
   "metadata": {},
   "source": [
    "# Pipelines de modelos a entrenar"
   ]
  },
  {
   "cell_type": "code",
   "execution_count": 6,
   "id": "aca061ae",
   "metadata": {},
   "outputs": [],
   "source": [
    "lr = LinearRegression()\n",
    "xgb = GradientBoostingRegressor()\n",
    "models = [(lr, 'lr'), (xgb, 'xgb')]"
   ]
  },
  {
   "cell_type": "code",
   "execution_count": 7,
   "id": "b7089cb8",
   "metadata": {},
   "outputs": [],
   "source": [
    "for m in models:\n",
    "    m[0].fit(x_train, y_train['revenue'])"
   ]
  },
  {
   "cell_type": "markdown",
   "id": "a246654a",
   "metadata": {},
   "source": [
    "# Guardo el binario de los modelos"
   ]
  },
  {
   "cell_type": "code",
   "execution_count": 8,
   "id": "7431dd98",
   "metadata": {},
   "outputs": [],
   "source": [
    "for m in models:\n",
    "    with open(models_path + '/' + m[1],'wb') as outfile:\n",
    "        pickle.dump(m[0], outfile)"
   ]
  },
  {
   "cell_type": "code",
   "execution_count": null,
   "id": "67f1745e",
   "metadata": {},
   "outputs": [],
   "source": []
  }
 ],
 "metadata": {
  "kernelspec": {
   "display_name": "Python 3",
   "language": "python",
   "name": "python3"
  },
  "language_info": {
   "codemirror_mode": {
    "name": "ipython",
    "version": 3
   },
   "file_extension": ".py",
   "mimetype": "text/x-python",
   "name": "python",
   "nbconvert_exporter": "python",
   "pygments_lexer": "ipython3",
   "version": "3.8.8"
  }
 },
 "nbformat": 4,
 "nbformat_minor": 5
}
