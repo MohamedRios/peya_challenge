{
 "cells": [
  {
   "cell_type": "code",
   "execution_count": 1,
   "id": "ef289852",
   "metadata": {},
   "outputs": [],
   "source": [
    "import pandas as pd\n",
    "import matplotlib\n",
    "import matplotlib.pyplot as plt\n",
    "import seaborn as sns\n",
    "import numpy as np\n",
    "sns.set(rc={'figure.figsize':(8,5)})\n",
    "matplotlib.rc_file_defaults()"
   ]
  },
  {
   "cell_type": "code",
   "execution_count": 2,
   "id": "ea347106",
   "metadata": {},
   "outputs": [],
   "source": [
    "df = pd.read_csv(\"../../data/dataset_v3.csv\")"
   ]
  },
  {
   "cell_type": "code",
   "execution_count": 3,
   "id": "312fc102",
   "metadata": {},
   "outputs": [
    {
     "data": {
      "text/html": [
       "<div>\n",
       "<style scoped>\n",
       "    .dataframe tbody tr th:only-of-type {\n",
       "        vertical-align: middle;\n",
       "    }\n",
       "\n",
       "    .dataframe tbody tr th {\n",
       "        vertical-align: top;\n",
       "    }\n",
       "\n",
       "    .dataframe thead th {\n",
       "        text-align: right;\n",
       "    }\n",
       "</style>\n",
       "<table border=\"1\" class=\"dataframe\">\n",
       "  <thead>\n",
       "    <tr style=\"text-align: right;\">\n",
       "      <th></th>\n",
       "      <th>user_id</th>\n",
       "      <th>country</th>\n",
       "      <th>source</th>\n",
       "      <th>platform</th>\n",
       "      <th>device_family</th>\n",
       "      <th>event_1</th>\n",
       "      <th>event_2</th>\n",
       "      <th>revenue</th>\n",
       "    </tr>\n",
       "  </thead>\n",
       "  <tbody>\n",
       "    <tr>\n",
       "      <th>0</th>\n",
       "      <td>44023fc9</td>\n",
       "      <td>it</td>\n",
       "      <td>Organic</td>\n",
       "      <td>iOS</td>\n",
       "      <td>Apple iPhone</td>\n",
       "      <td>28</td>\n",
       "      <td>1</td>\n",
       "      <td>0.097079</td>\n",
       "    </tr>\n",
       "    <tr>\n",
       "      <th>1</th>\n",
       "      <td>990ce89e</td>\n",
       "      <td>de</td>\n",
       "      <td>Organic</td>\n",
       "      <td>Android</td>\n",
       "      <td>Samsung Galaxy Phone</td>\n",
       "      <td>51</td>\n",
       "      <td>5</td>\n",
       "      <td>0.233669</td>\n",
       "    </tr>\n",
       "    <tr>\n",
       "      <th>2</th>\n",
       "      <td>0c103f51</td>\n",
       "      <td>pt</td>\n",
       "      <td>Organic</td>\n",
       "      <td>iOS</td>\n",
       "      <td>Apple iPhone</td>\n",
       "      <td>647</td>\n",
       "      <td>157</td>\n",
       "      <td>1.630575</td>\n",
       "    </tr>\n",
       "    <tr>\n",
       "      <th>3</th>\n",
       "      <td>ab2de453</td>\n",
       "      <td>pt</td>\n",
       "      <td>Organic</td>\n",
       "      <td>iOS</td>\n",
       "      <td>Apple iPad</td>\n",
       "      <td>35</td>\n",
       "      <td>0</td>\n",
       "      <td>0.084876</td>\n",
       "    </tr>\n",
       "    <tr>\n",
       "      <th>4</th>\n",
       "      <td>45c0aca3</td>\n",
       "      <td>fr</td>\n",
       "      <td>Non-Organic</td>\n",
       "      <td>Android</td>\n",
       "      <td>Samsung Galaxy Phone</td>\n",
       "      <td>0</td>\n",
       "      <td>0</td>\n",
       "      <td>0.000000</td>\n",
       "    </tr>\n",
       "  </tbody>\n",
       "</table>\n",
       "</div>"
      ],
      "text/plain": [
       "    user_id country       source platform         device_family  event_1  \\\n",
       "0  44023fc9      it      Organic      iOS          Apple iPhone       28   \n",
       "1  990ce89e      de      Organic  Android  Samsung Galaxy Phone       51   \n",
       "2  0c103f51      pt      Organic      iOS          Apple iPhone      647   \n",
       "3  ab2de453      pt      Organic      iOS            Apple iPad       35   \n",
       "4  45c0aca3      fr  Non-Organic  Android  Samsung Galaxy Phone        0   \n",
       "\n",
       "   event_2   revenue  \n",
       "0        1  0.097079  \n",
       "1        5  0.233669  \n",
       "2      157  1.630575  \n",
       "3        0  0.084876  \n",
       "4        0  0.000000  "
      ]
     },
     "execution_count": 3,
     "metadata": {},
     "output_type": "execute_result"
    }
   ],
   "source": [
    "df.head()"
   ]
  },
  {
   "cell_type": "markdown",
   "id": "3523617d",
   "metadata": {},
   "source": [
    "# Datos generales"
   ]
  },
  {
   "cell_type": "code",
   "execution_count": 4,
   "id": "175da816",
   "metadata": {},
   "outputs": [
    {
     "data": {
      "text/plain": [
       "(30000, 8)"
      ]
     },
     "execution_count": 4,
     "metadata": {},
     "output_type": "execute_result"
    }
   ],
   "source": [
    "df.shape"
   ]
  },
  {
   "cell_type": "code",
   "execution_count": 5,
   "id": "74509ca2",
   "metadata": {},
   "outputs": [
    {
     "data": {
      "text/html": [
       "<div>\n",
       "<style scoped>\n",
       "    .dataframe tbody tr th:only-of-type {\n",
       "        vertical-align: middle;\n",
       "    }\n",
       "\n",
       "    .dataframe tbody tr th {\n",
       "        vertical-align: top;\n",
       "    }\n",
       "\n",
       "    .dataframe thead th {\n",
       "        text-align: right;\n",
       "    }\n",
       "</style>\n",
       "<table border=\"1\" class=\"dataframe\">\n",
       "  <thead>\n",
       "    <tr style=\"text-align: right;\">\n",
       "      <th></th>\n",
       "      <th>event_1</th>\n",
       "      <th>event_2</th>\n",
       "      <th>revenue</th>\n",
       "    </tr>\n",
       "  </thead>\n",
       "  <tbody>\n",
       "    <tr>\n",
       "      <th>count</th>\n",
       "      <td>30000.000000</td>\n",
       "      <td>30000.000000</td>\n",
       "      <td>3.000000e+04</td>\n",
       "    </tr>\n",
       "    <tr>\n",
       "      <th>mean</th>\n",
       "      <td>50.047000</td>\n",
       "      <td>3.604467</td>\n",
       "      <td>7.710355e+02</td>\n",
       "    </tr>\n",
       "    <tr>\n",
       "      <th>std</th>\n",
       "      <td>116.113945</td>\n",
       "      <td>16.643703</td>\n",
       "      <td>2.484142e+04</td>\n",
       "    </tr>\n",
       "    <tr>\n",
       "      <th>min</th>\n",
       "      <td>0.000000</td>\n",
       "      <td>0.000000</td>\n",
       "      <td>0.000000e+00</td>\n",
       "    </tr>\n",
       "    <tr>\n",
       "      <th>25%</th>\n",
       "      <td>0.000000</td>\n",
       "      <td>0.000000</td>\n",
       "      <td>0.000000e+00</td>\n",
       "    </tr>\n",
       "    <tr>\n",
       "      <th>50%</th>\n",
       "      <td>4.000000</td>\n",
       "      <td>0.000000</td>\n",
       "      <td>9.683000e-03</td>\n",
       "    </tr>\n",
       "    <tr>\n",
       "      <th>75%</th>\n",
       "      <td>49.000000</td>\n",
       "      <td>1.000000</td>\n",
       "      <td>1.131700e-01</td>\n",
       "    </tr>\n",
       "    <tr>\n",
       "      <th>max</th>\n",
       "      <td>2694.000000</td>\n",
       "      <td>643.000000</td>\n",
       "      <td>2.082207e+06</td>\n",
       "    </tr>\n",
       "  </tbody>\n",
       "</table>\n",
       "</div>"
      ],
      "text/plain": [
       "            event_1       event_2       revenue\n",
       "count  30000.000000  30000.000000  3.000000e+04\n",
       "mean      50.047000      3.604467  7.710355e+02\n",
       "std      116.113945     16.643703  2.484142e+04\n",
       "min        0.000000      0.000000  0.000000e+00\n",
       "25%        0.000000      0.000000  0.000000e+00\n",
       "50%        4.000000      0.000000  9.683000e-03\n",
       "75%       49.000000      1.000000  1.131700e-01\n",
       "max     2694.000000    643.000000  2.082207e+06"
      ]
     },
     "execution_count": 5,
     "metadata": {},
     "output_type": "execute_result"
    }
   ],
   "source": [
    "df.describe()"
   ]
  },
  {
   "cell_type": "code",
   "execution_count": 6,
   "id": "6c3963af",
   "metadata": {},
   "outputs": [
    {
     "name": "stdout",
     "output_type": "stream",
     "text": [
      "<class 'pandas.core.frame.DataFrame'>\n",
      "RangeIndex: 30000 entries, 0 to 29999\n",
      "Data columns (total 8 columns):\n",
      " #   Column         Non-Null Count  Dtype  \n",
      "---  ------         --------------  -----  \n",
      " 0   user_id        30000 non-null  object \n",
      " 1   country        30000 non-null  object \n",
      " 2   source         27243 non-null  object \n",
      " 3   platform       30000 non-null  object \n",
      " 4   device_family  30000 non-null  object \n",
      " 5   event_1        30000 non-null  int64  \n",
      " 6   event_2        30000 non-null  int64  \n",
      " 7   revenue        30000 non-null  float64\n",
      "dtypes: float64(1), int64(2), object(5)\n",
      "memory usage: 1.8+ MB\n"
     ]
    }
   ],
   "source": [
    "df.info()"
   ]
  },
  {
   "cell_type": "markdown",
   "id": "77e72890",
   "metadata": {},
   "source": [
    "## Con estos paso ya podemos identificar dos problemas a tratar:\n",
    "    - source es categórico y tiene nulos. \n",
    "    - La distribución de datos de eventos no son directamente comparables por se manejan a diferentes escalas y sus distribuciones tienen más peso en el tail"
   ]
  },
  {
   "cell_type": "markdown",
   "id": "c0bb27eb",
   "metadata": {},
   "source": [
    "# Cantidad de datos distintos por columna"
   ]
  },
  {
   "cell_type": "markdown",
   "id": "f632734f",
   "metadata": {},
   "source": [
    "### Usuarios"
   ]
  },
  {
   "cell_type": "code",
   "execution_count": 7,
   "id": "9c45b4af",
   "metadata": {},
   "outputs": [
    {
     "data": {
      "text/plain": [
       "30000"
      ]
     },
     "execution_count": 7,
     "metadata": {},
     "output_type": "execute_result"
    }
   ],
   "source": [
    "df.user_id.nunique()"
   ]
  },
  {
   "cell_type": "markdown",
   "id": "50d735ef",
   "metadata": {},
   "source": [
    "### Países"
   ]
  },
  {
   "cell_type": "code",
   "execution_count": 8,
   "id": "841dca65",
   "metadata": {},
   "outputs": [
    {
     "data": {
      "text/plain": [
       "100"
      ]
     },
     "execution_count": 8,
     "metadata": {},
     "output_type": "execute_result"
    }
   ],
   "source": [
    "df.country.nunique()"
   ]
  },
  {
   "cell_type": "code",
   "execution_count": 9,
   "id": "1cf19c9f",
   "metadata": {},
   "outputs": [
    {
     "data": {
      "text/html": [
       "<div>\n",
       "<style scoped>\n",
       "    .dataframe tbody tr th:only-of-type {\n",
       "        vertical-align: middle;\n",
       "    }\n",
       "\n",
       "    .dataframe tbody tr th {\n",
       "        vertical-align: top;\n",
       "    }\n",
       "\n",
       "    .dataframe thead th {\n",
       "        text-align: right;\n",
       "    }\n",
       "</style>\n",
       "<table border=\"1\" class=\"dataframe\">\n",
       "  <thead>\n",
       "    <tr style=\"text-align: right;\">\n",
       "      <th></th>\n",
       "      <th>country</th>\n",
       "      <th>user_id</th>\n",
       "    </tr>\n",
       "  </thead>\n",
       "  <tbody>\n",
       "    <tr>\n",
       "      <th>29</th>\n",
       "      <td>es</td>\n",
       "      <td>20002</td>\n",
       "    </tr>\n",
       "    <tr>\n",
       "      <th>31</th>\n",
       "      <td>fr</td>\n",
       "      <td>5164</td>\n",
       "    </tr>\n",
       "    <tr>\n",
       "      <th>62</th>\n",
       "      <td>mx</td>\n",
       "      <td>936</td>\n",
       "    </tr>\n",
       "    <tr>\n",
       "      <th>4</th>\n",
       "      <td>ar</td>\n",
       "      <td>693</td>\n",
       "    </tr>\n",
       "    <tr>\n",
       "      <th>47</th>\n",
       "      <td>it</td>\n",
       "      <td>372</td>\n",
       "    </tr>\n",
       "    <tr>\n",
       "      <th>...</th>\n",
       "      <td>...</td>\n",
       "      <td>...</td>\n",
       "    </tr>\n",
       "    <tr>\n",
       "      <th>56</th>\n",
       "      <td>mc</td>\n",
       "      <td>1</td>\n",
       "    </tr>\n",
       "    <tr>\n",
       "      <th>72</th>\n",
       "      <td>pf</td>\n",
       "      <td>1</td>\n",
       "    </tr>\n",
       "    <tr>\n",
       "      <th>58</th>\n",
       "      <td>ml</td>\n",
       "      <td>1</td>\n",
       "    </tr>\n",
       "    <tr>\n",
       "      <th>60</th>\n",
       "      <td>mt</td>\n",
       "      <td>1</td>\n",
       "    </tr>\n",
       "    <tr>\n",
       "      <th>50</th>\n",
       "      <td>kw</td>\n",
       "      <td>1</td>\n",
       "    </tr>\n",
       "  </tbody>\n",
       "</table>\n",
       "<p>100 rows × 2 columns</p>\n",
       "</div>"
      ],
      "text/plain": [
       "   country  user_id\n",
       "29      es    20002\n",
       "31      fr     5164\n",
       "62      mx      936\n",
       "4       ar      693\n",
       "47      it      372\n",
       "..     ...      ...\n",
       "56      mc        1\n",
       "72      pf        1\n",
       "58      ml        1\n",
       "60      mt        1\n",
       "50      kw        1\n",
       "\n",
       "[100 rows x 2 columns]"
      ]
     },
     "execution_count": 9,
     "metadata": {},
     "output_type": "execute_result"
    }
   ],
   "source": [
    "df[['user_id','country']].groupby(['country']).count().reset_index().sort_values(by=['user_id'], ascending=False)"
   ]
  },
  {
   "cell_type": "markdown",
   "id": "b2e7a2c3",
   "metadata": {},
   "source": [
    "Hay un enorme de desbalanceo entre países. Visualicemos para entender mejor esto."
   ]
  },
  {
   "cell_type": "code",
   "execution_count": 10,
   "id": "c4b382c5",
   "metadata": {},
   "outputs": [
    {
     "data": {
      "text/html": [
       "<div>\n",
       "<style scoped>\n",
       "    .dataframe tbody tr th:only-of-type {\n",
       "        vertical-align: middle;\n",
       "    }\n",
       "\n",
       "    .dataframe tbody tr th {\n",
       "        vertical-align: top;\n",
       "    }\n",
       "\n",
       "    .dataframe thead th {\n",
       "        text-align: right;\n",
       "    }\n",
       "</style>\n",
       "<table border=\"1\" class=\"dataframe\">\n",
       "  <thead>\n",
       "    <tr style=\"text-align: right;\">\n",
       "      <th></th>\n",
       "      <th>user_id</th>\n",
       "    </tr>\n",
       "  </thead>\n",
       "  <tbody>\n",
       "    <tr>\n",
       "      <th>count</th>\n",
       "      <td>100.000000</td>\n",
       "    </tr>\n",
       "    <tr>\n",
       "      <th>mean</th>\n",
       "      <td>300.000000</td>\n",
       "    </tr>\n",
       "    <tr>\n",
       "      <th>std</th>\n",
       "      <td>2059.092033</td>\n",
       "    </tr>\n",
       "    <tr>\n",
       "      <th>min</th>\n",
       "      <td>1.000000</td>\n",
       "    </tr>\n",
       "    <tr>\n",
       "      <th>30%</th>\n",
       "      <td>1.000000</td>\n",
       "    </tr>\n",
       "    <tr>\n",
       "      <th>50%</th>\n",
       "      <td>4.500000</td>\n",
       "    </tr>\n",
       "    <tr>\n",
       "      <th>75%</th>\n",
       "      <td>26.250000</td>\n",
       "    </tr>\n",
       "    <tr>\n",
       "      <th>85%</th>\n",
       "      <td>86.150000</td>\n",
       "    </tr>\n",
       "    <tr>\n",
       "      <th>90%</th>\n",
       "      <td>158.400000</td>\n",
       "    </tr>\n",
       "    <tr>\n",
       "      <th>95%</th>\n",
       "      <td>353.950000</td>\n",
       "    </tr>\n",
       "    <tr>\n",
       "      <th>99%</th>\n",
       "      <td>5312.380000</td>\n",
       "    </tr>\n",
       "    <tr>\n",
       "      <th>max</th>\n",
       "      <td>20002.000000</td>\n",
       "    </tr>\n",
       "  </tbody>\n",
       "</table>\n",
       "</div>"
      ],
      "text/plain": [
       "            user_id\n",
       "count    100.000000\n",
       "mean     300.000000\n",
       "std     2059.092033\n",
       "min        1.000000\n",
       "30%        1.000000\n",
       "50%        4.500000\n",
       "75%       26.250000\n",
       "85%       86.150000\n",
       "90%      158.400000\n",
       "95%      353.950000\n",
       "99%     5312.380000\n",
       "max    20002.000000"
      ]
     },
     "execution_count": 10,
     "metadata": {},
     "output_type": "execute_result"
    }
   ],
   "source": [
    "df[['user_id','country']].groupby(['country']).count().reset_index()\\\n",
    "    .sort_values(by=['user_id'], ascending=False).describe(percentiles=[.3,.5,.75,.85,.9,.95,.99])"
   ]
  },
  {
   "cell_type": "code",
   "execution_count": 11,
   "id": "03c894b3",
   "metadata": {},
   "outputs": [],
   "source": [
    "df_countries = df.groupby(['country']).size().rename('cantidad').reset_index()"
   ]
  },
  {
   "cell_type": "code",
   "execution_count": 12,
   "id": "1d58b2c2",
   "metadata": {},
   "outputs": [],
   "source": [
    "# Agrupo países según cantidad, dado el gran desbalanceo.\n",
    "df_countries['paises'] =  np.where(df_countries['cantidad'] >= 87, df_countries['country'], 'Otros países')"
   ]
  },
  {
   "cell_type": "code",
   "execution_count": 13,
   "id": "ff36eeae",
   "metadata": {},
   "outputs": [
    {
     "data": {
      "text/plain": [
       "<AxesSubplot:xlabel='paises'>"
      ]
     },
     "execution_count": 13,
     "metadata": {},
     "output_type": "execute_result"
    },
    {
     "data": {
      "image/png": "[encoded data removed]",
      "text/plain": [
       "<Figure size 800x500 with 1 Axes>"
      ]
     },
     "metadata": {},
     "output_type": "display_data"
    }
   ],
   "source": [
    "df_countries.groupby(['paises']).sum('cantidad').reset_index()\\\n",
    "    .sort_values(by=['cantidad'], ascending=False).plot.bar(x='paises', rot=90, figsize=(8,5))"
   ]
  },
  {
   "cell_type": "markdown",
   "id": "0f894bb3",
   "metadata": {},
   "source": [
    "Veamos el revenue acumulado y promedio por país"
   ]
  },
  {
   "cell_type": "code",
   "execution_count": 14,
   "id": "b67ca56b",
   "metadata": {},
   "outputs": [],
   "source": [
    "df_countries = df_countries.merge(df.groupby(['country'])['revenue'].agg(['sum']).reset_index(),\n",
    "                                 on='country',\n",
    "                                 how='inner').groupby('paises').agg({'cantidad': 'sum', 'sum': 'sum'}).reset_index()"
   ]
  },
  {
   "cell_type": "code",
   "execution_count": 15,
   "id": "a760bd31",
   "metadata": {},
   "outputs": [],
   "source": [
    "df_countries['prom'] = df_countries['sum']/df_countries['cantidad']"
   ]
  },
  {
   "cell_type": "code",
   "execution_count": 16,
   "id": "f8a04ada",
   "metadata": {},
   "outputs": [
    {
     "data": {
      "text/html": [
       "<div>\n",
       "<style scoped>\n",
       "    .dataframe tbody tr th:only-of-type {\n",
       "        vertical-align: middle;\n",
       "    }\n",
       "\n",
       "    .dataframe tbody tr th {\n",
       "        vertical-align: top;\n",
       "    }\n",
       "\n",
       "    .dataframe thead th {\n",
       "        text-align: right;\n",
       "    }\n",
       "</style>\n",
       "<table border=\"1\" class=\"dataframe\">\n",
       "  <thead>\n",
       "    <tr style=\"text-align: right;\">\n",
       "      <th></th>\n",
       "      <th>paises</th>\n",
       "      <th>cantidad</th>\n",
       "      <th>sum</th>\n",
       "      <th>prom</th>\n",
       "    </tr>\n",
       "  </thead>\n",
       "  <tbody>\n",
       "    <tr>\n",
       "      <th>0</th>\n",
       "      <td>Otros países</td>\n",
       "      <td>867</td>\n",
       "      <td>344737.621002</td>\n",
       "      <td>397.621247</td>\n",
       "    </tr>\n",
       "    <tr>\n",
       "      <th>1</th>\n",
       "      <td>ar</td>\n",
       "      <td>693</td>\n",
       "      <td>473994.147401</td>\n",
       "      <td>683.974239</td>\n",
       "    </tr>\n",
       "    <tr>\n",
       "      <th>2</th>\n",
       "      <td>br</td>\n",
       "      <td>180</td>\n",
       "      <td>9257.967149</td>\n",
       "      <td>51.433151</td>\n",
       "    </tr>\n",
       "    <tr>\n",
       "      <th>3</th>\n",
       "      <td>ca</td>\n",
       "      <td>156</td>\n",
       "      <td>34.634402</td>\n",
       "      <td>0.222015</td>\n",
       "    </tr>\n",
       "    <tr>\n",
       "      <th>4</th>\n",
       "      <td>ch</td>\n",
       "      <td>87</td>\n",
       "      <td>619838.148013</td>\n",
       "      <td>7124.576414</td>\n",
       "    </tr>\n",
       "  </tbody>\n",
       "</table>\n",
       "</div>"
      ],
      "text/plain": [
       "         paises  cantidad            sum         prom\n",
       "0  Otros países       867  344737.621002   397.621247\n",
       "1            ar       693  473994.147401   683.974239\n",
       "2            br       180    9257.967149    51.433151\n",
       "3            ca       156      34.634402     0.222015\n",
       "4            ch        87  619838.148013  7124.576414"
      ]
     },
     "execution_count": 16,
     "metadata": {},
     "output_type": "execute_result"
    }
   ],
   "source": [
    "df_countries.head(5)"
   ]
  },
  {
   "cell_type": "code",
   "execution_count": 17,
   "id": "8ca8486f",
   "metadata": {},
   "outputs": [
    {
     "name": "stderr",
     "output_type": "stream",
     "text": [
      "<ipython-input-17-030e466167d7>:9: UserWarning: FixedFormatter should only be used together with FixedLocator\n",
      "  ax.set_xticklabels(labels=aux.paises, rotation=90)\n"
     ]
    },
    {
     "data": {
      "image/png": "[encoded data removed]",
      "text/plain": [
       "<Figure size 640x480 with 2 Axes>"
      ]
     },
     "metadata": {},
     "output_type": "display_data"
    }
   ],
   "source": [
    "# Para crear subplots\n",
    "fig,ax = plt.subplots()\n",
    "# Definimos el plot\n",
    "ax2 = ax.twinx()\n",
    "\n",
    "aux = df_countries[['paises', 'sum']] \\\n",
    "    .sort_values(by=['sum'], ascending=False)\n",
    "ax.bar(aux.paises, aux['sum'], color = \"blue\")\n",
    "ax.set_xticklabels(labels=aux.paises, rotation=90)\n",
    "ax.set_ylabel(\"Revenue acumulado por país (bar)\",color=\"blue\", fontsize=14)\n",
    "\n",
    "aux2 = df_countries[['paises', 'prom']] \\\n",
    "    .sort_values(by=['prom'], ascending=False)\n",
    "ax2.plot(aux2.paises, aux2.prom, color = \"red\")\n",
    "ax2.set_ylabel(\"Revenue promedio por país (line)\",color=\"red\",fontsize=14)\n",
    "\n",
    "plt.show()"
   ]
  },
  {
   "cell_type": "markdown",
   "id": "a60b6f62",
   "metadata": {},
   "source": [
    "Podemos ver que los revenues más altos no vienen de los países en los que se tienen más usuarios.\n",
    "A su vez, los países con menos de 87 usuarios (otros países) tienen muy poca cantidad de usuarios como tomarlos en la muestra entendiendo que el revenue cambia según el país.\n",
    "Por tanto, para este análisis se utilizará una feature que identifique el país pero agrupando los países de pocos usuarios como así también features que caractericen al país, como si tiene muchos usuarios, promedio de revenue por usuario de ese país, etc."
   ]
  },
  {
   "cell_type": "markdown",
   "id": "5bcec2c4",
   "metadata": {},
   "source": [
    "### Source: orgánicos vs no orgánicos"
   ]
  },
  {
   "cell_type": "code",
   "execution_count": 18,
   "id": "f3abac4c",
   "metadata": {},
   "outputs": [
    {
     "data": {
      "text/plain": [
       "2"
      ]
     },
     "execution_count": 18,
     "metadata": {},
     "output_type": "execute_result"
    }
   ],
   "source": [
    "df.source.nunique()"
   ]
  },
  {
   "cell_type": "code",
   "execution_count": 19,
   "id": "d77f4e4e",
   "metadata": {},
   "outputs": [
    {
     "data": {
      "text/plain": [
       "Organic        20009\n",
       "Non-Organic     7234\n",
       "Name: source, dtype: int64"
      ]
     },
     "execution_count": 19,
     "metadata": {},
     "output_type": "execute_result"
    }
   ],
   "source": [
    "df.source.value_counts()"
   ]
  },
  {
   "cell_type": "code",
   "execution_count": 20,
   "id": "7388db17",
   "metadata": {},
   "outputs": [],
   "source": [
    "df_sources = df[['source']].copy()\n",
    "df_sources['source_category'] = np.where(~df_sources['source'].isin(['Non-Organic', 'Organic']),\n",
    "                                         'Desconocido', df_sources['source'])\n",
    "df_sources = df_sources.groupby(['source_category']).size().rename('cantidad').reset_index()"
   ]
  },
  {
   "cell_type": "code",
   "execution_count": 21,
   "id": "06ae3e1b",
   "metadata": {},
   "outputs": [
    {
     "data": {
      "text/html": [
       "<div>\n",
       "<style scoped>\n",
       "    .dataframe tbody tr th:only-of-type {\n",
       "        vertical-align: middle;\n",
       "    }\n",
       "\n",
       "    .dataframe tbody tr th {\n",
       "        vertical-align: top;\n",
       "    }\n",
       "\n",
       "    .dataframe thead th {\n",
       "        text-align: right;\n",
       "    }\n",
       "</style>\n",
       "<table border=\"1\" class=\"dataframe\">\n",
       "  <thead>\n",
       "    <tr style=\"text-align: right;\">\n",
       "      <th></th>\n",
       "      <th>source_category</th>\n",
       "      <th>cantidad</th>\n",
       "    </tr>\n",
       "  </thead>\n",
       "  <tbody>\n",
       "    <tr>\n",
       "      <th>0</th>\n",
       "      <td>Desconocido</td>\n",
       "      <td>2757</td>\n",
       "    </tr>\n",
       "    <tr>\n",
       "      <th>1</th>\n",
       "      <td>Non-Organic</td>\n",
       "      <td>7234</td>\n",
       "    </tr>\n",
       "    <tr>\n",
       "      <th>2</th>\n",
       "      <td>Organic</td>\n",
       "      <td>20009</td>\n",
       "    </tr>\n",
       "  </tbody>\n",
       "</table>\n",
       "</div>"
      ],
      "text/plain": [
       "  source_category  cantidad\n",
       "0     Desconocido      2757\n",
       "1     Non-Organic      7234\n",
       "2         Organic     20009"
      ]
     },
     "execution_count": 21,
     "metadata": {},
     "output_type": "execute_result"
    }
   ],
   "source": [
    "df_sources"
   ]
  },
  {
   "cell_type": "markdown",
   "id": "db23b68a",
   "metadata": {},
   "source": [
    "Si bien hay un pequeño desbalanceo de 1 a 3, en principio lo tomaremos sin hacer técnicas de balanceo.\n",
    "Por otro lado existen nulos por lo que se añade la categoría 'desconocido', ya que no es una cantidad despreciable y se tiene el valor del resto de las columnas (no existe otra columna con nulos)"
   ]
  },
  {
   "cell_type": "markdown",
   "id": "bd4783e3",
   "metadata": {},
   "source": [
    "### Platform"
   ]
  },
  {
   "cell_type": "code",
   "execution_count": 22,
   "id": "ff233b44",
   "metadata": {},
   "outputs": [
    {
     "data": {
      "text/plain": [
       "4"
      ]
     },
     "execution_count": 22,
     "metadata": {},
     "output_type": "execute_result"
    }
   ],
   "source": [
    "df.platform.nunique()"
   ]
  },
  {
   "cell_type": "code",
   "execution_count": 23,
   "id": "c636806e",
   "metadata": {},
   "outputs": [
    {
     "data": {
      "text/plain": [
       "Android    19880\n",
       "iOS         8606\n",
       "android     1070\n",
       "ios          444\n",
       "Name: platform, dtype: int64"
      ]
     },
     "execution_count": 23,
     "metadata": {},
     "output_type": "execute_result"
    }
   ],
   "source": [
    "df.platform.value_counts()"
   ]
  },
  {
   "cell_type": "markdown",
   "id": "34aba5f9",
   "metadata": {},
   "source": [
    "Se aprecia la falta de estadarización en los valores posibles que son dos: Android e IOs. Por tanto llevaremos todo a minúsculas para resolver esto."
   ]
  },
  {
   "cell_type": "code",
   "execution_count": 24,
   "id": "b6111488",
   "metadata": {},
   "outputs": [],
   "source": [
    "df.platform = df.platform.str.lower()"
   ]
  },
  {
   "cell_type": "code",
   "execution_count": 25,
   "id": "918182d5",
   "metadata": {},
   "outputs": [
    {
     "data": {
      "text/plain": [
       "android    20950\n",
       "ios         9050\n",
       "Name: platform, dtype: int64"
      ]
     },
     "execution_count": 25,
     "metadata": {},
     "output_type": "execute_result"
    }
   ],
   "source": [
    "df.platform.value_counts()"
   ]
  },
  {
   "cell_type": "markdown",
   "id": "c70187bf",
   "metadata": {},
   "source": [
    "Si bien existe un desbalanceo de clases a razón 1:2, no haremos ninguna técnica de balanceo dada que la razón no lo amerita por el momento."
   ]
  },
  {
   "cell_type": "markdown",
   "id": "916784cf",
   "metadata": {},
   "source": [
    "### Device family"
   ]
  },
  {
   "cell_type": "code",
   "execution_count": 26,
   "id": "4f66fe5a",
   "metadata": {},
   "outputs": [
    {
     "data": {
      "text/plain": [
       "1194"
      ]
     },
     "execution_count": 26,
     "metadata": {},
     "output_type": "execute_result"
    }
   ],
   "source": [
    "df.device_family.nunique()"
   ]
  },
  {
   "cell_type": "code",
   "execution_count": 27,
   "id": "844204d4",
   "metadata": {},
   "outputs": [],
   "source": [
    "df_devices = df[['device_family', 'user_id']].copy()"
   ]
  },
  {
   "cell_type": "code",
   "execution_count": 28,
   "id": "67ee0c2b",
   "metadata": {},
   "outputs": [
    {
     "data": {
      "text/html": [
       "<div>\n",
       "<style scoped>\n",
       "    .dataframe tbody tr th:only-of-type {\n",
       "        vertical-align: middle;\n",
       "    }\n",
       "\n",
       "    .dataframe tbody tr th {\n",
       "        vertical-align: top;\n",
       "    }\n",
       "\n",
       "    .dataframe thead th {\n",
       "        text-align: right;\n",
       "    }\n",
       "</style>\n",
       "<table border=\"1\" class=\"dataframe\">\n",
       "  <thead>\n",
       "    <tr style=\"text-align: right;\">\n",
       "      <th></th>\n",
       "      <th>user_id</th>\n",
       "    </tr>\n",
       "  </thead>\n",
       "  <tbody>\n",
       "    <tr>\n",
       "      <th>count</th>\n",
       "      <td>1194.000000</td>\n",
       "    </tr>\n",
       "    <tr>\n",
       "      <th>mean</th>\n",
       "      <td>25.125628</td>\n",
       "    </tr>\n",
       "    <tr>\n",
       "      <th>std</th>\n",
       "      <td>277.290778</td>\n",
       "    </tr>\n",
       "    <tr>\n",
       "      <th>min</th>\n",
       "      <td>1.000000</td>\n",
       "    </tr>\n",
       "    <tr>\n",
       "      <th>30%</th>\n",
       "      <td>1.000000</td>\n",
       "    </tr>\n",
       "    <tr>\n",
       "      <th>50%</th>\n",
       "      <td>2.000000</td>\n",
       "    </tr>\n",
       "    <tr>\n",
       "      <th>75%</th>\n",
       "      <td>4.000000</td>\n",
       "    </tr>\n",
       "    <tr>\n",
       "      <th>90%</th>\n",
       "      <td>17.000000</td>\n",
       "    </tr>\n",
       "    <tr>\n",
       "      <th>95%</th>\n",
       "      <td>39.350000</td>\n",
       "    </tr>\n",
       "    <tr>\n",
       "      <th>99%</th>\n",
       "      <td>217.800000</td>\n",
       "    </tr>\n",
       "    <tr>\n",
       "      <th>99.9%</th>\n",
       "      <td>4556.535000</td>\n",
       "    </tr>\n",
       "    <tr>\n",
       "      <th>max</th>\n",
       "      <td>7118.000000</td>\n",
       "    </tr>\n",
       "  </tbody>\n",
       "</table>\n",
       "</div>"
      ],
      "text/plain": [
       "           user_id\n",
       "count  1194.000000\n",
       "mean     25.125628\n",
       "std     277.290778\n",
       "min       1.000000\n",
       "30%       1.000000\n",
       "50%       2.000000\n",
       "75%       4.000000\n",
       "90%      17.000000\n",
       "95%      39.350000\n",
       "99%     217.800000\n",
       "99.9%  4556.535000\n",
       "max    7118.000000"
      ]
     },
     "execution_count": 28,
     "metadata": {},
     "output_type": "execute_result"
    }
   ],
   "source": [
    "df_devices.groupby(['device_family']).count().reset_index().describe(percentiles=[.3,.5,.75,.9,.95,.99,.999])"
   ]
  },
  {
   "cell_type": "code",
   "execution_count": 29,
   "id": "e8f98536",
   "metadata": {},
   "outputs": [
    {
     "data": {
      "text/html": [
       "<div>\n",
       "<style scoped>\n",
       "    .dataframe tbody tr th:only-of-type {\n",
       "        vertical-align: middle;\n",
       "    }\n",
       "\n",
       "    .dataframe tbody tr th {\n",
       "        vertical-align: top;\n",
       "    }\n",
       "\n",
       "    .dataframe thead th {\n",
       "        text-align: right;\n",
       "    }\n",
       "</style>\n",
       "<table border=\"1\" class=\"dataframe\">\n",
       "  <thead>\n",
       "    <tr style=\"text-align: right;\">\n",
       "      <th></th>\n",
       "      <th>device_family</th>\n",
       "      <th>cantidad</th>\n",
       "    </tr>\n",
       "  </thead>\n",
       "  <tbody>\n",
       "    <tr>\n",
       "      <th>35</th>\n",
       "      <td>Apple iPhone</td>\n",
       "      <td>7118</td>\n",
       "    </tr>\n",
       "    <tr>\n",
       "      <th>568</th>\n",
       "      <td>Samsung Galaxy Phone</td>\n",
       "      <td>5040</td>\n",
       "    </tr>\n",
       "    <tr>\n",
       "      <th>309</th>\n",
       "      <td>Huawei Phone</td>\n",
       "      <td>2535</td>\n",
       "    </tr>\n",
       "    <tr>\n",
       "      <th>765</th>\n",
       "      <td>Xiaomi Phone</td>\n",
       "      <td>2288</td>\n",
       "    </tr>\n",
       "    <tr>\n",
       "      <th>30</th>\n",
       "      <td>Apple iPad</td>\n",
       "      <td>1446</td>\n",
       "    </tr>\n",
       "  </tbody>\n",
       "</table>\n",
       "</div>"
      ],
      "text/plain": [
       "            device_family  cantidad\n",
       "35           Apple iPhone      7118\n",
       "568  Samsung Galaxy Phone      5040\n",
       "309          Huawei Phone      2535\n",
       "765          Xiaomi Phone      2288\n",
       "30             Apple iPad      1446"
      ]
     },
     "execution_count": 29,
     "metadata": {},
     "output_type": "execute_result"
    }
   ],
   "source": [
    "df_devices = df_devices.groupby(['device_family']).size().rename('cantidad').reset_index()\n",
    "df_devices.sort_values(by=['cantidad'], ascending=False).head()"
   ]
  },
  {
   "cell_type": "code",
   "execution_count": 30,
   "id": "844a12b6",
   "metadata": {},
   "outputs": [],
   "source": [
    "# Agrupo devices según cantidad, dado el gran desbalanceo.\n",
    "df_devices['device_category'] =  np.where(df_devices['cantidad'] >= 260, df_devices['device_family'], 'Otros devices')"
   ]
  },
  {
   "cell_type": "code",
   "execution_count": 31,
   "id": "6ab74c96",
   "metadata": {},
   "outputs": [
    {
     "data": {
      "text/html": [
       "<div>\n",
       "<style scoped>\n",
       "    .dataframe tbody tr th:only-of-type {\n",
       "        vertical-align: middle;\n",
       "    }\n",
       "\n",
       "    .dataframe tbody tr th {\n",
       "        vertical-align: top;\n",
       "    }\n",
       "\n",
       "    .dataframe thead th {\n",
       "        text-align: right;\n",
       "    }\n",
       "</style>\n",
       "<table border=\"1\" class=\"dataframe\">\n",
       "  <thead>\n",
       "    <tr style=\"text-align: right;\">\n",
       "      <th></th>\n",
       "      <th>device_category</th>\n",
       "      <th>cantidad</th>\n",
       "    </tr>\n",
       "  </thead>\n",
       "  <tbody>\n",
       "    <tr>\n",
       "      <th>3</th>\n",
       "      <td>Otros devices</td>\n",
       "      <td>8700</td>\n",
       "    </tr>\n",
       "    <tr>\n",
       "      <th>1</th>\n",
       "      <td>Apple iPhone</td>\n",
       "      <td>7118</td>\n",
       "    </tr>\n",
       "    <tr>\n",
       "      <th>8</th>\n",
       "      <td>Samsung Galaxy Phone</td>\n",
       "      <td>5040</td>\n",
       "    </tr>\n",
       "    <tr>\n",
       "      <th>2</th>\n",
       "      <td>Huawei Phone</td>\n",
       "      <td>2535</td>\n",
       "    </tr>\n",
       "    <tr>\n",
       "      <th>10</th>\n",
       "      <td>Xiaomi Phone</td>\n",
       "      <td>2288</td>\n",
       "    </tr>\n",
       "    <tr>\n",
       "      <th>0</th>\n",
       "      <td>Apple iPad</td>\n",
       "      <td>1446</td>\n",
       "    </tr>\n",
       "    <tr>\n",
       "      <th>9</th>\n",
       "      <td>Samsung Galaxy Tab</td>\n",
       "      <td>1248</td>\n",
       "    </tr>\n",
       "    <tr>\n",
       "      <th>6</th>\n",
       "      <td>Redmi Xiaomi Redmi Note 9 Pro</td>\n",
       "      <td>373</td>\n",
       "    </tr>\n",
       "    <tr>\n",
       "      <th>11</th>\n",
       "      <td>xiaomi Xiaomi Redmi Note 8T</td>\n",
       "      <td>350</td>\n",
       "    </tr>\n",
       "    <tr>\n",
       "      <th>4</th>\n",
       "      <td>Redmi Xiaomi M2003J15SC</td>\n",
       "      <td>322</td>\n",
       "    </tr>\n",
       "    <tr>\n",
       "      <th>7</th>\n",
       "      <td>Samsung Galaxy Note</td>\n",
       "      <td>317</td>\n",
       "    </tr>\n",
       "    <tr>\n",
       "      <th>5</th>\n",
       "      <td>Redmi Xiaomi M2004J19C</td>\n",
       "      <td>263</td>\n",
       "    </tr>\n",
       "  </tbody>\n",
       "</table>\n",
       "</div>"
      ],
      "text/plain": [
       "                  device_category  cantidad\n",
       "3                   Otros devices      8700\n",
       "1                    Apple iPhone      7118\n",
       "8            Samsung Galaxy Phone      5040\n",
       "2                    Huawei Phone      2535\n",
       "10                   Xiaomi Phone      2288\n",
       "0                      Apple iPad      1446\n",
       "9              Samsung Galaxy Tab      1248\n",
       "6   Redmi Xiaomi Redmi Note 9 Pro       373\n",
       "11    xiaomi Xiaomi Redmi Note 8T       350\n",
       "4         Redmi Xiaomi M2003J15SC       322\n",
       "7             Samsung Galaxy Note       317\n",
       "5          Redmi Xiaomi M2004J19C       263"
      ]
     },
     "execution_count": 31,
     "metadata": {},
     "output_type": "execute_result"
    }
   ],
   "source": [
    "df_devices.groupby('device_category').sum('cantidad').reset_index()\\\n",
    "        .sort_values(by=['cantidad'], ascending=False)"
   ]
  },
  {
   "cell_type": "code",
   "execution_count": 32,
   "id": "a4826232",
   "metadata": {},
   "outputs": [],
   "source": [
    "# Agrupamos mismas marcas en conjunto\n",
    "# Condiciones de agrupamiento \n",
    "conditions = [\n",
    "    (df_devices.device_category.str.lower().str.contains('samsung')),\n",
    "    (df_devices.device_category.str.lower().str.contains('apple')), \n",
    "    (df_devices.device_category.str.lower().str.contains('huawei')), \n",
    "    (df_devices.device_category.str.lower().str.contains('xiaomi')),\n",
    "    (df_devices.device_category.str.lower().str.contains('otros devices'))\n",
    "    ]\n",
    "\n",
    "# Valores a asignar por condición\n",
    "values = ['samsung', 'apple', 'huawei', 'xiaomi', 'otros devices']\n",
    "\n",
    "# Nueva columna con la categoría de dispositivo\n",
    "df_devices['device_category'] = np.select(conditions, values)"
   ]
  },
  {
   "cell_type": "code",
   "execution_count": 33,
   "id": "7ba85f9d",
   "metadata": {},
   "outputs": [
    {
     "data": {
      "text/html": [
       "<div>\n",
       "<style scoped>\n",
       "    .dataframe tbody tr th:only-of-type {\n",
       "        vertical-align: middle;\n",
       "    }\n",
       "\n",
       "    .dataframe tbody tr th {\n",
       "        vertical-align: top;\n",
       "    }\n",
       "\n",
       "    .dataframe thead th {\n",
       "        text-align: right;\n",
       "    }\n",
       "</style>\n",
       "<table border=\"1\" class=\"dataframe\">\n",
       "  <thead>\n",
       "    <tr style=\"text-align: right;\">\n",
       "      <th></th>\n",
       "      <th>device_category</th>\n",
       "      <th>cantidad</th>\n",
       "    </tr>\n",
       "  </thead>\n",
       "  <tbody>\n",
       "    <tr>\n",
       "      <th>2</th>\n",
       "      <td>otros devices</td>\n",
       "      <td>8700</td>\n",
       "    </tr>\n",
       "    <tr>\n",
       "      <th>0</th>\n",
       "      <td>apple</td>\n",
       "      <td>8564</td>\n",
       "    </tr>\n",
       "    <tr>\n",
       "      <th>3</th>\n",
       "      <td>samsung</td>\n",
       "      <td>6605</td>\n",
       "    </tr>\n",
       "    <tr>\n",
       "      <th>4</th>\n",
       "      <td>xiaomi</td>\n",
       "      <td>3596</td>\n",
       "    </tr>\n",
       "    <tr>\n",
       "      <th>1</th>\n",
       "      <td>huawei</td>\n",
       "      <td>2535</td>\n",
       "    </tr>\n",
       "  </tbody>\n",
       "</table>\n",
       "</div>"
      ],
      "text/plain": [
       "  device_category  cantidad\n",
       "2   otros devices      8700\n",
       "0           apple      8564\n",
       "3         samsung      6605\n",
       "4          xiaomi      3596\n",
       "1          huawei      2535"
      ]
     },
     "execution_count": 33,
     "metadata": {},
     "output_type": "execute_result"
    }
   ],
   "source": [
    "df_devices.groupby('device_category').sum('cantidad').reset_index()\\\n",
    "        .sort_values(by=['cantidad'], ascending=False)"
   ]
  },
  {
   "cell_type": "markdown",
   "id": "552a5abb",
   "metadata": {},
   "source": [
    "### Eventos"
   ]
  },
  {
   "cell_type": "code",
   "execution_count": 34,
   "id": "45a883ac",
   "metadata": {},
   "outputs": [
    {
     "data": {
      "text/html": [
       "<div>\n",
       "<style scoped>\n",
       "    .dataframe tbody tr th:only-of-type {\n",
       "        vertical-align: middle;\n",
       "    }\n",
       "\n",
       "    .dataframe tbody tr th {\n",
       "        vertical-align: top;\n",
       "    }\n",
       "\n",
       "    .dataframe thead th {\n",
       "        text-align: right;\n",
       "    }\n",
       "</style>\n",
       "<table border=\"1\" class=\"dataframe\">\n",
       "  <thead>\n",
       "    <tr style=\"text-align: right;\">\n",
       "      <th></th>\n",
       "      <th>event_1</th>\n",
       "      <th>event_2</th>\n",
       "    </tr>\n",
       "  </thead>\n",
       "  <tbody>\n",
       "    <tr>\n",
       "      <th>count</th>\n",
       "      <td>30000.000000</td>\n",
       "      <td>30000.000000</td>\n",
       "    </tr>\n",
       "    <tr>\n",
       "      <th>mean</th>\n",
       "      <td>50.047000</td>\n",
       "      <td>3.604467</td>\n",
       "    </tr>\n",
       "    <tr>\n",
       "      <th>std</th>\n",
       "      <td>116.113945</td>\n",
       "      <td>16.643703</td>\n",
       "    </tr>\n",
       "    <tr>\n",
       "      <th>min</th>\n",
       "      <td>0.000000</td>\n",
       "      <td>0.000000</td>\n",
       "    </tr>\n",
       "    <tr>\n",
       "      <th>10%</th>\n",
       "      <td>0.000000</td>\n",
       "      <td>0.000000</td>\n",
       "    </tr>\n",
       "    <tr>\n",
       "      <th>20%</th>\n",
       "      <td>0.000000</td>\n",
       "      <td>0.000000</td>\n",
       "    </tr>\n",
       "    <tr>\n",
       "      <th>30%</th>\n",
       "      <td>0.000000</td>\n",
       "      <td>0.000000</td>\n",
       "    </tr>\n",
       "    <tr>\n",
       "      <th>40%</th>\n",
       "      <td>0.000000</td>\n",
       "      <td>0.000000</td>\n",
       "    </tr>\n",
       "    <tr>\n",
       "      <th>50%</th>\n",
       "      <td>4.000000</td>\n",
       "      <td>0.000000</td>\n",
       "    </tr>\n",
       "    <tr>\n",
       "      <th>60%</th>\n",
       "      <td>14.000000</td>\n",
       "      <td>0.000000</td>\n",
       "    </tr>\n",
       "    <tr>\n",
       "      <th>70%</th>\n",
       "      <td>33.000000</td>\n",
       "      <td>1.000000</td>\n",
       "    </tr>\n",
       "    <tr>\n",
       "      <th>75%</th>\n",
       "      <td>49.000000</td>\n",
       "      <td>1.000000</td>\n",
       "    </tr>\n",
       "    <tr>\n",
       "      <th>85%</th>\n",
       "      <td>101.000000</td>\n",
       "      <td>3.000000</td>\n",
       "    </tr>\n",
       "    <tr>\n",
       "      <th>90%</th>\n",
       "      <td>149.000000</td>\n",
       "      <td>7.000000</td>\n",
       "    </tr>\n",
       "    <tr>\n",
       "      <th>99%</th>\n",
       "      <td>545.010000</td>\n",
       "      <td>64.010000</td>\n",
       "    </tr>\n",
       "    <tr>\n",
       "      <th>99.9%</th>\n",
       "      <td>1198.007000</td>\n",
       "      <td>218.003000</td>\n",
       "    </tr>\n",
       "    <tr>\n",
       "      <th>max</th>\n",
       "      <td>2694.000000</td>\n",
       "      <td>643.000000</td>\n",
       "    </tr>\n",
       "  </tbody>\n",
       "</table>\n",
       "</div>"
      ],
      "text/plain": [
       "            event_1       event_2\n",
       "count  30000.000000  30000.000000\n",
       "mean      50.047000      3.604467\n",
       "std      116.113945     16.643703\n",
       "min        0.000000      0.000000\n",
       "10%        0.000000      0.000000\n",
       "20%        0.000000      0.000000\n",
       "30%        0.000000      0.000000\n",
       "40%        0.000000      0.000000\n",
       "50%        4.000000      0.000000\n",
       "60%       14.000000      0.000000\n",
       "70%       33.000000      1.000000\n",
       "75%       49.000000      1.000000\n",
       "85%      101.000000      3.000000\n",
       "90%      149.000000      7.000000\n",
       "99%      545.010000     64.010000\n",
       "99.9%   1198.007000    218.003000\n",
       "max     2694.000000    643.000000"
      ]
     },
     "execution_count": 34,
     "metadata": {},
     "output_type": "execute_result"
    }
   ],
   "source": [
    "df[['event_1', 'event_2']].describe(percentiles=[.1,.2,.3,.4,.5,.6,.7,.75,.85,.9,.99,.999])"
   ]
  },
  {
   "cell_type": "code",
   "execution_count": 35,
   "id": "b4311d4e",
   "metadata": {},
   "outputs": [
    {
     "data": {
      "text/plain": [
       "<AxesSubplot:>"
      ]
     },
     "execution_count": 35,
     "metadata": {},
     "output_type": "execute_result"
    },
    {
     "data": {
      "image/png": "[encoded data removed]",
      "text/plain": [
       "<Figure size 640x480 with 1 Axes>"
      ]
     },
     "metadata": {},
     "output_type": "display_data"
    }
   ],
   "source": [
    "df[['event_1']][\n",
    "    (df.event_1 < 545)\n",
    "    & (df.event_1 > 0)\n",
    "].boxplot()"
   ]
  },
  {
   "cell_type": "code",
   "execution_count": 36,
   "id": "cacedc30",
   "metadata": {},
   "outputs": [
    {
     "data": {
      "text/plain": [
       "<AxesSubplot:>"
      ]
     },
     "execution_count": 36,
     "metadata": {},
     "output_type": "execute_result"
    },
    {
     "data": {
      "image/png": "[encoded data removed]",
      "text/plain": [
       "<Figure size 640x480 with 1 Axes>"
      ]
     },
     "metadata": {},
     "output_type": "display_data"
    }
   ],
   "source": [
    "df[['event_2']][\n",
    "    (df.event_2 < 64)\n",
    "    & (df.event_2 > 0)\n",
    "].boxplot()"
   ]
  },
  {
   "cell_type": "markdown",
   "id": "035b1dd6",
   "metadata": {},
   "source": [
    "Se tienen outliers en ambos eventos aunque están a distinta escala.\n",
    "También se aprecia que para aproximadamente el 50% de los datos, el número de eventos es 0.\n",
    "Dada lo pequeño del dataset y la imposibilidad de investigar el origen de estas anomalías para su correcto tratamiento crearemos una nueva variable que indique si existen o no eventos (por la cantidad de 0) y además borraremos los outliers a partir del cuantil 99."
   ]
  },
  {
   "cell_type": "code",
   "execution_count": 37,
   "id": "0cf8fe5d",
   "metadata": {},
   "outputs": [],
   "source": [
    "df_eventos = df[['event_1', 'event_2']][\n",
    "    (df['event_1'] < 545)\n",
    "    & (df['event_2'] < 64)\n",
    "].copy()\n",
    "df_eventos['has_event_1'] = np.where(df_eventos['event_1'] > 0, 1, 0)\n",
    "df_eventos['has_event_2'] = np.where(df_eventos['event_2'] > 0, 1, 0)"
   ]
  },
  {
   "cell_type": "code",
   "execution_count": 38,
   "id": "eb6e7a48",
   "metadata": {},
   "outputs": [
    {
     "data": {
      "text/html": [
       "<div>\n",
       "<style scoped>\n",
       "    .dataframe tbody tr th:only-of-type {\n",
       "        vertical-align: middle;\n",
       "    }\n",
       "\n",
       "    .dataframe tbody tr th {\n",
       "        vertical-align: top;\n",
       "    }\n",
       "\n",
       "    .dataframe thead th {\n",
       "        text-align: right;\n",
       "    }\n",
       "</style>\n",
       "<table border=\"1\" class=\"dataframe\">\n",
       "  <thead>\n",
       "    <tr style=\"text-align: right;\">\n",
       "      <th></th>\n",
       "      <th>event_1</th>\n",
       "      <th>event_2</th>\n",
       "      <th>has_event_1</th>\n",
       "      <th>has_event_2</th>\n",
       "    </tr>\n",
       "  </thead>\n",
       "  <tbody>\n",
       "    <tr>\n",
       "      <th>0</th>\n",
       "      <td>28</td>\n",
       "      <td>1</td>\n",
       "      <td>1</td>\n",
       "      <td>1</td>\n",
       "    </tr>\n",
       "    <tr>\n",
       "      <th>1</th>\n",
       "      <td>51</td>\n",
       "      <td>5</td>\n",
       "      <td>1</td>\n",
       "      <td>1</td>\n",
       "    </tr>\n",
       "    <tr>\n",
       "      <th>3</th>\n",
       "      <td>35</td>\n",
       "      <td>0</td>\n",
       "      <td>1</td>\n",
       "      <td>0</td>\n",
       "    </tr>\n",
       "    <tr>\n",
       "      <th>4</th>\n",
       "      <td>0</td>\n",
       "      <td>0</td>\n",
       "      <td>0</td>\n",
       "      <td>0</td>\n",
       "    </tr>\n",
       "    <tr>\n",
       "      <th>5</th>\n",
       "      <td>139</td>\n",
       "      <td>4</td>\n",
       "      <td>1</td>\n",
       "      <td>1</td>\n",
       "    </tr>\n",
       "  </tbody>\n",
       "</table>\n",
       "</div>"
      ],
      "text/plain": [
       "   event_1  event_2  has_event_1  has_event_2\n",
       "0       28        1            1            1\n",
       "1       51        5            1            1\n",
       "3       35        0            1            0\n",
       "4        0        0            0            0\n",
       "5      139        4            1            1"
      ]
     },
     "execution_count": 38,
     "metadata": {},
     "output_type": "execute_result"
    }
   ],
   "source": [
    "df_eventos.head()"
   ]
  },
  {
   "cell_type": "code",
   "execution_count": 39,
   "id": "983e267d",
   "metadata": {},
   "outputs": [
    {
     "data": {
      "text/plain": [
       "(29464, 4)"
      ]
     },
     "execution_count": 39,
     "metadata": {},
     "output_type": "execute_result"
    }
   ],
   "source": [
    "df_eventos.shape"
   ]
  },
  {
   "cell_type": "markdown",
   "id": "d4fa3fa8",
   "metadata": {},
   "source": [
    "### Revenue"
   ]
  },
  {
   "cell_type": "code",
   "execution_count": 40,
   "id": "134c3313",
   "metadata": {},
   "outputs": [
    {
     "data": {
      "text/html": [
       "<div>\n",
       "<style scoped>\n",
       "    .dataframe tbody tr th:only-of-type {\n",
       "        vertical-align: middle;\n",
       "    }\n",
       "\n",
       "    .dataframe tbody tr th {\n",
       "        vertical-align: top;\n",
       "    }\n",
       "\n",
       "    .dataframe thead th {\n",
       "        text-align: right;\n",
       "    }\n",
       "</style>\n",
       "<table border=\"1\" class=\"dataframe\">\n",
       "  <thead>\n",
       "    <tr style=\"text-align: right;\">\n",
       "      <th></th>\n",
       "      <th>revenue</th>\n",
       "    </tr>\n",
       "  </thead>\n",
       "  <tbody>\n",
       "    <tr>\n",
       "      <th>count</th>\n",
       "      <td>3.000000e+04</td>\n",
       "    </tr>\n",
       "    <tr>\n",
       "      <th>mean</th>\n",
       "      <td>7.710355e+02</td>\n",
       "    </tr>\n",
       "    <tr>\n",
       "      <th>std</th>\n",
       "      <td>2.484142e+04</td>\n",
       "    </tr>\n",
       "    <tr>\n",
       "      <th>min</th>\n",
       "      <td>0.000000e+00</td>\n",
       "    </tr>\n",
       "    <tr>\n",
       "      <th>10%</th>\n",
       "      <td>0.000000e+00</td>\n",
       "    </tr>\n",
       "    <tr>\n",
       "      <th>20%</th>\n",
       "      <td>0.000000e+00</td>\n",
       "    </tr>\n",
       "    <tr>\n",
       "      <th>30%</th>\n",
       "      <td>0.000000e+00</td>\n",
       "    </tr>\n",
       "    <tr>\n",
       "      <th>40%</th>\n",
       "      <td>1.789200e-03</td>\n",
       "    </tr>\n",
       "    <tr>\n",
       "      <th>50%</th>\n",
       "      <td>9.683000e-03</td>\n",
       "    </tr>\n",
       "    <tr>\n",
       "      <th>60%</th>\n",
       "      <td>3.237440e-02</td>\n",
       "    </tr>\n",
       "    <tr>\n",
       "      <th>70%</th>\n",
       "      <td>7.731600e-02</td>\n",
       "    </tr>\n",
       "    <tr>\n",
       "      <th>75%</th>\n",
       "      <td>1.131700e-01</td>\n",
       "    </tr>\n",
       "    <tr>\n",
       "      <th>85%</th>\n",
       "      <td>2.388648e-01</td>\n",
       "    </tr>\n",
       "    <tr>\n",
       "      <th>90%</th>\n",
       "      <td>3.664035e-01</td>\n",
       "    </tr>\n",
       "    <tr>\n",
       "      <th>99%</th>\n",
       "      <td>1.743623e+00</td>\n",
       "    </tr>\n",
       "    <tr>\n",
       "      <th>99.9%</th>\n",
       "      <td>1.826401e+05</td>\n",
       "    </tr>\n",
       "    <tr>\n",
       "      <th>max</th>\n",
       "      <td>2.082207e+06</td>\n",
       "    </tr>\n",
       "  </tbody>\n",
       "</table>\n",
       "</div>"
      ],
      "text/plain": [
       "            revenue\n",
       "count  3.000000e+04\n",
       "mean   7.710355e+02\n",
       "std    2.484142e+04\n",
       "min    0.000000e+00\n",
       "10%    0.000000e+00\n",
       "20%    0.000000e+00\n",
       "30%    0.000000e+00\n",
       "40%    1.789200e-03\n",
       "50%    9.683000e-03\n",
       "60%    3.237440e-02\n",
       "70%    7.731600e-02\n",
       "75%    1.131700e-01\n",
       "85%    2.388648e-01\n",
       "90%    3.664035e-01\n",
       "99%    1.743623e+00\n",
       "99.9%  1.826401e+05\n",
       "max    2.082207e+06"
      ]
     },
     "execution_count": 40,
     "metadata": {},
     "output_type": "execute_result"
    }
   ],
   "source": [
    "df[['revenue']].describe(percentiles=[.1,.2,.3,.4,.5,.6,.7,.75,.85,.9,.99,.999])"
   ]
  },
  {
   "cell_type": "code",
   "execution_count": 41,
   "id": "b7247bc1",
   "metadata": {},
   "outputs": [
    {
     "data": {
      "text/plain": [
       "array([[<AxesSubplot:title={'center':'revenue'}>]], dtype=object)"
      ]
     },
     "execution_count": 41,
     "metadata": {},
     "output_type": "execute_result"
    },
    {
     "data": {
      "image/png": "[encoded data removed]",
      "text/plain": [
       "<Figure size 640x480 with 1 Axes>"
      ]
     },
     "metadata": {},
     "output_type": "display_data"
    }
   ],
   "source": [
    "df[['revenue']][\n",
    "    (df['revenue'] > 0)\n",
    "    & (df['revenue'] < 1.8)\n",
    "].hist()"
   ]
  },
  {
   "cell_type": "code",
   "execution_count": 42,
   "id": "b90516c6",
   "metadata": {},
   "outputs": [
    {
     "data": {
      "text/plain": [
       "<AxesSubplot:>"
      ]
     },
     "execution_count": 42,
     "metadata": {},
     "output_type": "execute_result"
    },
    {
     "data": {
      "image/png": "[encoded data removed]",
      "text/plain": [
       "<Figure size 640x480 with 1 Axes>"
      ]
     },
     "metadata": {},
     "output_type": "display_data"
    }
   ],
   "source": [
    "df[['revenue']][\n",
    "    (df['revenue'] > 0)\n",
    "    & (df['revenue'] < 1.8)\n",
    "].boxplot()"
   ]
  },
  {
   "cell_type": "markdown",
   "id": "efa65981",
   "metadata": {},
   "source": [
    "En el caso del revenue, al ser el target, no es afectado por cuestiones de escala a la hora de optimizar la función de costos, por lo que en principio no es necesario escalar a pesar de su distribución. \n",
    "Sin embargo, a la hora de medir performance, sería de mucha ayuda segmentar los revenue según categoría (por ejemplo: bajo, medio y alto) para medir su eficiencia según el rango de revenue que se obtendría. De esa manera no sólo haríamos predicción del revenue, sino que también daríamos más peso a predecir mejor a las de algún rango que sea más importante para el negocio.\n",
    "Por otro lado, se observa un 30% de la población con revenue 0, por lo que se propone en una próxima iteración hacer sumsampling sobre esto, dado el ruido que podría hacer sobre el modelo."
   ]
  },
  {
   "cell_type": "code",
   "execution_count": null,
   "id": "23e6e611",
   "metadata": {},
   "outputs": [],
   "source": []
  }
 ],
 "metadata": {
  "kernelspec": {
   "display_name": "Python 3",
   "language": "python",
   "name": "python3"
  },
  "language_info": {
   "codemirror_mode": {
    "name": "ipython",
    "version": 3
   },
   "file_extension": ".py",
   "mimetype": "text/x-python",
   "name": "python",
   "nbconvert_exporter": "python",
   "pygments_lexer": "ipython3",
   "version": "3.8.8"
  }
 },
 "nbformat": 4,
 "nbformat_minor": 5
}
