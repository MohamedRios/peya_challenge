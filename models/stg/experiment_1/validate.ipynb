{
 "cells": [
  {
   "cell_type": "code",
   "execution_count": 1,
   "id": "94b5f80b",
   "metadata": {},
   "outputs": [],
   "source": [
    "import pandas as pd\n",
    "import numpy as np\n",
    "import matplotlib.pyplot as plt\n",
    "import yaml\n",
    "from yaml.loader import SafeLoader\n",
    "import os\n",
    "import glob\n",
    "import warnings\n",
    "import pickle\n",
    "from sklearn.metrics import mean_absolute_error\n",
    "from sklearn.metrics import mean_squared_error\n",
    "\n",
    "warnings.filterwarnings('ignore')"
   ]
  },
  {
   "cell_type": "code",
   "execution_count": 2,
   "id": "c4e26b34",
   "metadata": {},
   "outputs": [],
   "source": [
    "# Cambiamos el directorio de trabajo a la carpeta models\n",
    "os.chdir('../../..')"
   ]
  },
  {
   "cell_type": "code",
   "execution_count": 3,
   "id": "7328afdc",
   "metadata": {},
   "outputs": [
    {
     "name": "stdout",
     "output_type": "stream",
     "text": [
      "Directorio: /Users/mohamed.rios/Projects/desafio_peya\n"
     ]
    }
   ],
   "source": [
    "print(\"Directorio: {0}\".format(os.getcwd()))"
   ]
  },
  {
   "cell_type": "markdown",
   "id": "20d82dc6",
   "metadata": {},
   "source": [
    "# Leemos archivo de parámetros"
   ]
  },
  {
   "cell_type": "code",
   "execution_count": 4,
   "id": "b3bc40fe",
   "metadata": {},
   "outputs": [],
   "source": [
    "with open('models/stg/experiment_1/params.yaml') as f:\n",
    "    params = yaml.load(f, Loader=SafeLoader)"
   ]
  },
  {
   "cell_type": "markdown",
   "id": "7709d492",
   "metadata": {},
   "source": [
    "# Carga de modelos y datos"
   ]
  },
  {
   "cell_type": "code",
   "execution_count": 5,
   "id": "16ee2bfd",
   "metadata": {},
   "outputs": [],
   "source": [
    "models_path = glob.glob(params.get('models_artifact_path')+'/*')\n",
    "models = []\n",
    "for path in models_path:\n",
    "    with open(path,'rb') as infile:\n",
    "        models.append(pickle.load(infile))"
   ]
  },
  {
   "cell_type": "code",
   "execution_count": 6,
   "id": "5bf65a08",
   "metadata": {},
   "outputs": [],
   "source": [
    "x_test = pd.read_csv(params.get('x_test_path'))\n",
    "y_test = pd.read_csv(params.get('y_test_path'))"
   ]
  },
  {
   "cell_type": "markdown",
   "id": "632cf6fc",
   "metadata": {},
   "source": [
    "# Validaciones"
   ]
  },
  {
   "cell_type": "code",
   "execution_count": 7,
   "id": "5e89e009",
   "metadata": {},
   "outputs": [
    {
     "name": "stdout",
     "output_type": "stream",
     "text": [
      "**********\n",
      "Para el modelo del path  models/stg/experiment_1/artifacts/trained_models/xgb  se obtuvieron las siguientes métricas:\n",
      "score:  0.7802056680193484\n",
      "mae:  52972.12976316712\n",
      "mse:  10031386078.685015\n",
      "**********\n",
      "\n",
      "**********\n",
      "Para el modelo del path  models/stg/experiment_1/artifacts/trained_models/lr  se obtuvieron las siguientes métricas:\n",
      "score:  0.6910832956451547\n",
      "mae:  63890.59242528146\n",
      "mse:  14098920111.42144\n",
      "**********\n",
      "\n"
     ]
    }
   ],
   "source": [
    "for i in range(0, len(models_path)):\n",
    "    print('*'*10)\n",
    "    print('Para el modelo del path ', models_path[i], ' se obtuvieron las siguientes métricas:')\n",
    "    predictions = models[i].predict(x_test)\n",
    "    print('score: ', models[i].score(x_test, y_test[params.get('target')]))\n",
    "    print('mae: ', mean_absolute_error(predictions, y_test[params.get('target')]))\n",
    "    print('mse: ', mean_squared_error(predictions, y_test[params.get('target')]))\n",
    "    print('*'*10)\n",
    "    print()"
   ]
  },
  {
   "cell_type": "markdown",
   "id": "a458d25b",
   "metadata": {},
   "source": [
    "# Conclusiones"
   ]
  },
  {
   "cell_type": "markdown",
   "id": "d44feb1f",
   "metadata": {},
   "source": [
    "Se tomará el modelo de models/stg/experiment_1/artifacts/trained_models/xgb para el deploy para este desafío pero se debería optimizar mucho más dependiendo el error tolerado para la estimación de precio."
   ]
  }
 ],
 "metadata": {
  "kernelspec": {
   "display_name": "Python 3",
   "language": "python",
   "name": "python3"
  },
  "language_info": {
   "codemirror_mode": {
    "name": "ipython",
    "version": 3
   },
   "file_extension": ".py",
   "mimetype": "text/x-python",
   "name": "python",
   "nbconvert_exporter": "python",
   "pygments_lexer": "ipython3",
   "version": "3.8.8"
  }
 },
 "nbformat": 4,
 "nbformat_minor": 5
}
