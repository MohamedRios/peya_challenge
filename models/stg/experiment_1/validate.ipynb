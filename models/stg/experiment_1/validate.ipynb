{
 "cells": [
  {
   "cell_type": "code",
   "execution_count": 1,
   "id": "94b5f80b",
   "metadata": {},
   "outputs": [],
   "source": [
    "import pandas as pd\n",
    "import numpy as np\n",
    "import matplotlib.pyplot as plt\n",
    "import yaml\n",
    "from yaml.loader import SafeLoader\n",
    "import os\n",
    "import warnings\n",
    "import pickle\n",
    "from sklearn.metrics import mean_absolute_error\n",
    "from sklearn.metrics import mean_squared_error\n",
    "\n",
    "warnings.filterwarnings('ignore')"
   ]
  },
  {
   "cell_type": "code",
   "execution_count": 2,
   "id": "c4e26b34",
   "metadata": {},
   "outputs": [],
   "source": [
    "# Cambiamos el directorio de trabajo a la carpeta models\n",
    "os.chdir('../../')"
   ]
  },
  {
   "cell_type": "code",
   "execution_count": 3,
   "id": "7328afdc",
   "metadata": {},
   "outputs": [
    {
     "name": "stdout",
     "output_type": "stream",
     "text": [
      "Directorio: /Users/mohamed.rios/Projects/desafio_etermax/models\n"
     ]
    }
   ],
   "source": [
    "print(\"Directorio: {0}\".format(os.getcwd()))"
   ]
  },
  {
   "cell_type": "markdown",
   "id": "20d82dc6",
   "metadata": {},
   "source": [
    "# Leemos archivo de parámetros"
   ]
  },
  {
   "cell_type": "code",
   "execution_count": 4,
   "id": "b3bc40fe",
   "metadata": {},
   "outputs": [],
   "source": [
    "with open('resources.yaml') as f:\n",
    "    resources = yaml.load(f, Loader=SafeLoader)\n",
    "    params = resources.get('preprocess_params')\n",
    "    models_path = resources.get('models_path')"
   ]
  },
  {
   "cell_type": "markdown",
   "id": "7709d492",
   "metadata": {},
   "source": [
    "# Carga de modelos y datos"
   ]
  },
  {
   "cell_type": "code",
   "execution_count": 5,
   "id": "16ee2bfd",
   "metadata": {},
   "outputs": [],
   "source": [
    "models = []\n",
    "for model in models_path:\n",
    "    with open(model,'rb') as infile:\n",
    "        models.append(pickle.load(infile))"
   ]
  },
  {
   "cell_type": "code",
   "execution_count": 6,
   "id": "5bf65a08",
   "metadata": {},
   "outputs": [],
   "source": [
    "x_test = pd.read_csv(params['x_test_path'])\n",
    "y_test = pd.read_csv(params['y_test_path'])"
   ]
  },
  {
   "cell_type": "markdown",
   "id": "632cf6fc",
   "metadata": {},
   "source": [
    "# Validaciones"
   ]
  },
  {
   "cell_type": "code",
   "execution_count": 7,
   "id": "5e89e009",
   "metadata": {},
   "outputs": [
    {
     "name": "stdout",
     "output_type": "stream",
     "text": [
      "**********\n",
      "Para el modelo del path  stg/model_1/artifacts/lr  se obtuvieron las siguientes métricas:\n",
      "score:  0.8694330970535411\n",
      "mae:  0.0375101975429109\n",
      "mse:  0.005370428452513296\n",
      "**********\n",
      "\n",
      "**********\n",
      "Para el modelo del path  stg/model_1/artifacts/xgb  se obtuvieron las siguientes métricas:\n",
      "score:  0.9479153740896662\n",
      "mae:  0.016421984924089205\n",
      "mse:  0.002142325126927996\n",
      "**********\n",
      "\n"
     ]
    }
   ],
   "source": [
    "for i in range(0, len(models_path)):\n",
    "    print('*'*10)\n",
    "    print('Para el modelo del path ', models_path[i], ' se obtuvieron las siguientes métricas:')\n",
    "    predictions = models[i].predict(x_test)\n",
    "    print('score: ', models[i].score(x_test, y_test['revenue']))\n",
    "    print('mae: ', mean_absolute_error(predictions, y_test['revenue']))\n",
    "    print('mse: ', mean_squared_error(predictions, y_test['revenue']))\n",
    "    print('*'*10)\n",
    "    print()"
   ]
  },
  {
   "cell_type": "code",
   "execution_count": 8,
   "id": "db1775bf",
   "metadata": {},
   "outputs": [
    {
     "data": {
      "text/plain": [
       "<AxesSubplot:>"
      ]
     },
     "execution_count": 8,
     "metadata": {},
     "output_type": "execute_result"
    },
    {
     "data": {
      "image/png": "[encoded data removed]",
      "text/plain": [
       "<Figure size 432x288 with 1 Axes>"
      ]
     },
     "metadata": {
      "needs_background": "light"
     },
     "output_type": "display_data"
    }
   ],
   "source": [
    "y_test[y_test['revenue'] < 0.1]['revenue'].hist()"
   ]
  },
  {
   "cell_type": "code",
   "execution_count": 9,
   "id": "1896fdcf",
   "metadata": {},
   "outputs": [
    {
     "data": {
      "text/plain": [
       "4470"
      ]
     },
     "execution_count": 9,
     "metadata": {},
     "output_type": "execute_result"
    }
   ],
   "source": [
    "y_test[y_test['revenue'] < 0.01]['revenue'].count()"
   ]
  },
  {
   "cell_type": "code",
   "execution_count": 10,
   "id": "97a576c6",
   "metadata": {},
   "outputs": [
    {
     "data": {
      "text/plain": [
       "4328"
      ]
     },
     "execution_count": 10,
     "metadata": {},
     "output_type": "execute_result"
    }
   ],
   "source": [
    "y_test[y_test['revenue'] >= 0.01]['revenue'].count()"
   ]
  },
  {
   "cell_type": "markdown",
   "id": "a458d25b",
   "metadata": {},
   "source": [
    "# Conclusiones"
   ]
  },
  {
   "cell_type": "markdown",
   "id": "d44feb1f",
   "metadata": {},
   "source": [
    "Se tomará el modelo de stg/model_1/artifacts/xgb para el deploy para este desafío pero se debería optimizar mucho más ya que el orden del error está en la misma magnitud o más de la que se encuentran la mayoría de valores del target."
   ]
  },
  {
   "cell_type": "code",
   "execution_count": null,
   "id": "2f308d29",
   "metadata": {},
   "outputs": [],
   "source": []
  }
 ],
 "metadata": {
  "kernelspec": {
   "display_name": "Python 3",
   "language": "python",
   "name": "python3"
  },
  "language_info": {
   "codemirror_mode": {
    "name": "ipython",
    "version": 3
   },
   "file_extension": ".py",
   "mimetype": "text/x-python",
   "name": "python",
   "nbconvert_exporter": "python",
   "pygments_lexer": "ipython3",
   "version": "3.8.8"
  }
 },
 "nbformat": 4,
 "nbformat_minor": 5
}
