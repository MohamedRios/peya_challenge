{
 "cells": [
  {
   "cell_type": "code",
   "execution_count": 1,
   "id": "d02da446",
   "metadata": {},
   "outputs": [],
   "source": [
    "import pandas as pd\n",
    "import numpy as np\n",
    "import pickle\n",
    "import yaml\n",
    "from yaml.loader import SafeLoader\n",
    "import os\n",
    "from sklearn.pipeline import make_pipeline\n",
    "from sklearn.compose import make_column_transformer\n",
    "from sklearn.preprocessing import StandardScaler\n",
    "from sklearn.preprocessing import Normalizer\n",
    "from sklearn.preprocessing import OneHotEncoder\n",
    "from sklearn.model_selection import train_test_split\n",
    "import warnings\n",
    "warnings.filterwarnings('ignore')"
   ]
  },
  {
   "cell_type": "markdown",
   "id": "ca051549",
   "metadata": {},
   "source": [
    "# Leemos los parámetros del preprocess"
   ]
  },
  {
   "cell_type": "code",
   "execution_count": 2,
   "id": "1ff2afb1",
   "metadata": {},
   "outputs": [],
   "source": [
    "# Cambiamos el directorio de trabajo a la carpeta models\n",
    "os.chdir('../../')"
   ]
  },
  {
   "cell_type": "code",
   "execution_count": 3,
   "id": "e7353546",
   "metadata": {},
   "outputs": [
    {
     "name": "stdout",
     "output_type": "stream",
     "text": [
      "Directorio: /Users/mohamed.rios/Projects/desafio_etermax/models\n"
     ]
    }
   ],
   "source": [
    "print(\"Directorio: {0}\".format(os.getcwd()))"
   ]
  },
  {
   "cell_type": "code",
   "execution_count": 4,
   "id": "f0d57332",
   "metadata": {},
   "outputs": [],
   "source": [
    "with open('resources.yaml') as f:\n",
    "    resources = yaml.load(f, Loader=SafeLoader)\n",
    "    params = resources.get('preprocess_params')\n",
    "    pipeline_path = resources.get('artifact_path')"
   ]
  },
  {
   "cell_type": "markdown",
   "id": "e6bd1f76",
   "metadata": {},
   "source": [
    "# Lectura del raw dataset"
   ]
  },
  {
   "cell_type": "code",
   "execution_count": 5,
   "id": "a813d32c",
   "metadata": {},
   "outputs": [],
   "source": [
    "df = pd.read_csv(params['raw_data_path'])"
   ]
  },
  {
   "cell_type": "code",
   "execution_count": 6,
   "id": "8d7882b5",
   "metadata": {},
   "outputs": [
    {
     "data": {
      "text/html": [
       "<div>\n",
       "<style scoped>\n",
       "    .dataframe tbody tr th:only-of-type {\n",
       "        vertical-align: middle;\n",
       "    }\n",
       "\n",
       "    .dataframe tbody tr th {\n",
       "        vertical-align: top;\n",
       "    }\n",
       "\n",
       "    .dataframe thead th {\n",
       "        text-align: right;\n",
       "    }\n",
       "</style>\n",
       "<table border=\"1\" class=\"dataframe\">\n",
       "  <thead>\n",
       "    <tr style=\"text-align: right;\">\n",
       "      <th></th>\n",
       "      <th>user_id</th>\n",
       "      <th>country</th>\n",
       "      <th>source</th>\n",
       "      <th>platform</th>\n",
       "      <th>device_family</th>\n",
       "      <th>event_1</th>\n",
       "      <th>event_2</th>\n",
       "      <th>revenue</th>\n",
       "    </tr>\n",
       "  </thead>\n",
       "  <tbody>\n",
       "    <tr>\n",
       "      <th>0</th>\n",
       "      <td>44023fc9</td>\n",
       "      <td>it</td>\n",
       "      <td>Organic</td>\n",
       "      <td>iOS</td>\n",
       "      <td>Apple iPhone</td>\n",
       "      <td>28</td>\n",
       "      <td>1</td>\n",
       "      <td>0.097079</td>\n",
       "    </tr>\n",
       "    <tr>\n",
       "      <th>1</th>\n",
       "      <td>990ce89e</td>\n",
       "      <td>de</td>\n",
       "      <td>Organic</td>\n",
       "      <td>Android</td>\n",
       "      <td>Samsung Galaxy Phone</td>\n",
       "      <td>51</td>\n",
       "      <td>5</td>\n",
       "      <td>0.233669</td>\n",
       "    </tr>\n",
       "    <tr>\n",
       "      <th>2</th>\n",
       "      <td>0c103f51</td>\n",
       "      <td>pt</td>\n",
       "      <td>Organic</td>\n",
       "      <td>iOS</td>\n",
       "      <td>Apple iPhone</td>\n",
       "      <td>647</td>\n",
       "      <td>157</td>\n",
       "      <td>1.630575</td>\n",
       "    </tr>\n",
       "    <tr>\n",
       "      <th>3</th>\n",
       "      <td>ab2de453</td>\n",
       "      <td>pt</td>\n",
       "      <td>Organic</td>\n",
       "      <td>iOS</td>\n",
       "      <td>Apple iPad</td>\n",
       "      <td>35</td>\n",
       "      <td>0</td>\n",
       "      <td>0.084876</td>\n",
       "    </tr>\n",
       "    <tr>\n",
       "      <th>4</th>\n",
       "      <td>45c0aca3</td>\n",
       "      <td>fr</td>\n",
       "      <td>Non-Organic</td>\n",
       "      <td>Android</td>\n",
       "      <td>Samsung Galaxy Phone</td>\n",
       "      <td>0</td>\n",
       "      <td>0</td>\n",
       "      <td>0.000000</td>\n",
       "    </tr>\n",
       "  </tbody>\n",
       "</table>\n",
       "</div>"
      ],
      "text/plain": [
       "    user_id country       source platform         device_family  event_1  \\\n",
       "0  44023fc9      it      Organic      iOS          Apple iPhone       28   \n",
       "1  990ce89e      de      Organic  Android  Samsung Galaxy Phone       51   \n",
       "2  0c103f51      pt      Organic      iOS          Apple iPhone      647   \n",
       "3  ab2de453      pt      Organic      iOS            Apple iPad       35   \n",
       "4  45c0aca3      fr  Non-Organic  Android  Samsung Galaxy Phone        0   \n",
       "\n",
       "   event_2   revenue  \n",
       "0        1  0.097079  \n",
       "1        5  0.233669  \n",
       "2      157  1.630575  \n",
       "3        0  0.084876  \n",
       "4        0  0.000000  "
      ]
     },
     "execution_count": 6,
     "metadata": {},
     "output_type": "execute_result"
    }
   ],
   "source": [
    "df.head()"
   ]
  },
  {
   "cell_type": "markdown",
   "id": "9da2fd46",
   "metadata": {},
   "source": [
    "# Preprocess dataset"
   ]
  },
  {
   "cell_type": "markdown",
   "id": "46e58be3",
   "metadata": {},
   "source": [
    "### Pipeline functions"
   ]
  },
  {
   "cell_type": "code",
   "execution_count": 7,
   "id": "7b037b99",
   "metadata": {},
   "outputs": [],
   "source": [
    "def apply_pipeline(f_list: list, df: pd.DataFrame, params=params) -> pd.DataFrame:\n",
    "    for f in f_list:\n",
    "        df = f(df, params)\n",
    "    return df"
   ]
  },
  {
   "cell_type": "markdown",
   "id": "f0c01ae6",
   "metadata": {},
   "source": [
    "### Preprocess Functions"
   ]
  },
  {
   "cell_type": "code",
   "execution_count": 8,
   "id": "0a5fbd24",
   "metadata": {},
   "outputs": [],
   "source": [
    "def delete_outliers(df: pd.DataFrame, params) -> pd.DataFrame:\n",
    "    df = df[\n",
    "                (df['revenue'] < params['max_revenue']) \n",
    "              & (df['event_1'] < params['max_event_1']) \n",
    "              & (df['event_2'] < params['max_event_2'])\n",
    "    ]\n",
    "    return df\n",
    "\n",
    "\n",
    "def create_country_features(df: pd.DataFrame, params) -> pd.DataFrame:\n",
    "    df['country_category'] = df.country.str.lower()\n",
    "    df['country_category'] = np.where(df['country_category'].isin(params['valid_countries']),\n",
    "                                        df['country_category'],\n",
    "                                        'otros')\n",
    "    return df\n",
    "\n",
    "\n",
    "def create_source_features(df: pd.DataFrame, params) -> pd.DataFrame:\n",
    "    df['source_category'] = df.source.str.lower()\n",
    "    df['source_category'] = np.where(~df['source_category'].isin(params['valid_sources']),\n",
    "                                         'desconocido', \n",
    "                                         df['source_category'])\n",
    "    return df\n",
    "\n",
    "\n",
    "def create_platform_features(df: pd.DataFrame, params) -> pd.DataFrame:\n",
    "    df['platform_category'] = df.platform.str.lower()\n",
    "    df['platform_category'] = np.where(~df['platform_category'].isin(params['valid_platforms']),\n",
    "                                         'desconocido',\n",
    "                                         df['platform_category'])\n",
    "    return df\n",
    "\n",
    "\n",
    "def create_device_features(df: pd.DataFrame, params) -> pd.DataFrame:\n",
    "    df['device_category'] = df.device_family.str.lower()\n",
    "    df['device_category'] = np.where(~df['device_category'].isin(params['valid_devices']),\n",
    "                                         'otros', \n",
    "                                         df['device_category'])\n",
    "    return df\n",
    "\n",
    "\n",
    "def create_event_1_flag(df: pd.DataFrame, params) -> pd.DataFrame:\n",
    "    df['has_event_1'] = np.where(df['event_1'] > 0, 1, 0)\n",
    "    return df\n",
    "\n",
    "\n",
    "def create_event_2_flag(df: pd.DataFrame, params) -> pd.DataFrame:\n",
    "    df['has_event_2'] = np.where(df['event_2'] > 0, 1, 0)\n",
    "    return df\n",
    "\n",
    "\n",
    "def drop_metadata_columns(df: pd.DataFrame, params) -> pd.DataFrame:\n",
    "    return df.drop(axis=1, columns=params['metadata_columns'])\n",
    "\n"
   ]
  },
  {
   "cell_type": "code",
   "execution_count": 9,
   "id": "59d28c2d",
   "metadata": {},
   "outputs": [],
   "source": [
    "df_processed = delete_outliers(df.copy(), params)\n",
    "x = df_processed.drop(axis=1, columns=['revenue'])\n",
    "y = df_processed.revenue\n",
    "x_train, x_test, y_train, y_test = train_test_split(x, y, test_size=0.3, random_state=0)"
   ]
  },
  {
   "cell_type": "code",
   "execution_count": 10,
   "id": "b111908f",
   "metadata": {},
   "outputs": [],
   "source": [
    "preprocess_f_list = [create_country_features,\n",
    "                    create_source_features, create_platform_features, create_device_features,\n",
    "                    create_event_1_flag, create_event_2_flag, drop_metadata_columns]\n",
    "x_train = apply_pipeline(preprocess_f_list, x_train)\n",
    "x_test = apply_pipeline(preprocess_f_list, x_test)"
   ]
  },
  {
   "cell_type": "code",
   "execution_count": 11,
   "id": "4e689e5b",
   "metadata": {},
   "outputs": [
    {
     "data": {
      "text/html": [
       "<div>\n",
       "<style scoped>\n",
       "    .dataframe tbody tr th:only-of-type {\n",
       "        vertical-align: middle;\n",
       "    }\n",
       "\n",
       "    .dataframe tbody tr th {\n",
       "        vertical-align: top;\n",
       "    }\n",
       "\n",
       "    .dataframe thead th {\n",
       "        text-align: right;\n",
       "    }\n",
       "</style>\n",
       "<table border=\"1\" class=\"dataframe\">\n",
       "  <thead>\n",
       "    <tr style=\"text-align: right;\">\n",
       "      <th></th>\n",
       "      <th>event_1</th>\n",
       "      <th>event_2</th>\n",
       "      <th>country_category</th>\n",
       "      <th>source_category</th>\n",
       "      <th>platform_category</th>\n",
       "      <th>device_category</th>\n",
       "      <th>has_event_1</th>\n",
       "      <th>has_event_2</th>\n",
       "    </tr>\n",
       "  </thead>\n",
       "  <tbody>\n",
       "    <tr>\n",
       "      <th>24650</th>\n",
       "      <td>0</td>\n",
       "      <td>0</td>\n",
       "      <td>es</td>\n",
       "      <td>organic</td>\n",
       "      <td>android</td>\n",
       "      <td>otros</td>\n",
       "      <td>0</td>\n",
       "      <td>0</td>\n",
       "    </tr>\n",
       "    <tr>\n",
       "      <th>28516</th>\n",
       "      <td>3</td>\n",
       "      <td>0</td>\n",
       "      <td>fr</td>\n",
       "      <td>non-organic</td>\n",
       "      <td>android</td>\n",
       "      <td>otros</td>\n",
       "      <td>1</td>\n",
       "      <td>0</td>\n",
       "    </tr>\n",
       "    <tr>\n",
       "      <th>905</th>\n",
       "      <td>29</td>\n",
       "      <td>0</td>\n",
       "      <td>es</td>\n",
       "      <td>organic</td>\n",
       "      <td>android</td>\n",
       "      <td>otros</td>\n",
       "      <td>1</td>\n",
       "      <td>0</td>\n",
       "    </tr>\n",
       "  </tbody>\n",
       "</table>\n",
       "</div>"
      ],
      "text/plain": [
       "       event_1  event_2 country_category source_category platform_category  \\\n",
       "24650        0        0               es         organic           android   \n",
       "28516        3        0               fr     non-organic           android   \n",
       "905         29        0               es         organic           android   \n",
       "\n",
       "      device_category  has_event_1  has_event_2  \n",
       "24650           otros            0            0  \n",
       "28516           otros            1            0  \n",
       "905             otros            1            0  "
      ]
     },
     "execution_count": 11,
     "metadata": {},
     "output_type": "execute_result"
    }
   ],
   "source": [
    "x_train.head(3)"
   ]
  },
  {
   "cell_type": "markdown",
   "id": "daf04a62",
   "metadata": {},
   "source": [
    "# Scikit pipeline"
   ]
  },
  {
   "cell_type": "code",
   "execution_count": 12,
   "id": "a0ced9ca",
   "metadata": {},
   "outputs": [],
   "source": [
    "ohe = OneHotEncoder()\n",
    "scaler = StandardScaler()\n",
    "normalizer = Normalizer()\n",
    "column_transformer = make_column_transformer(\n",
    "                (ohe, x_train.select_dtypes(include='object').columns),\n",
    "                (scaler, params['numerical_colums']),\n",
    "                (normalizer, params['numerical_colums'])\n",
    ")"
   ]
  },
  {
   "cell_type": "code",
   "execution_count": 13,
   "id": "4d8fb59c",
   "metadata": {},
   "outputs": [],
   "source": [
    "pipeline = make_pipeline(column_transformer)"
   ]
  },
  {
   "cell_type": "code",
   "execution_count": 14,
   "id": "d54ff777",
   "metadata": {},
   "outputs": [
    {
     "data": {
      "text/plain": [
       "Pipeline(steps=[('columntransformer',\n",
       "                 ColumnTransformer(transformers=[('onehotencoder',\n",
       "                                                  OneHotEncoder(),\n",
       "                                                  Index(['country_category', 'source_category', 'platform_category',\n",
       "       'device_category'],\n",
       "      dtype='object')),\n",
       "                                                 ('standardscaler',\n",
       "                                                  StandardScaler(),\n",
       "                                                  ['event_1', 'event_2']),\n",
       "                                                 ('normalizer', Normalizer(),\n",
       "                                                  ['event_1', 'event_2'])]))])"
      ]
     },
     "execution_count": 14,
     "metadata": {},
     "output_type": "execute_result"
    }
   ],
   "source": [
    "pipeline.fit(x_train)"
   ]
  },
  {
   "cell_type": "code",
   "execution_count": 15,
   "id": "d6b980cb",
   "metadata": {},
   "outputs": [],
   "source": [
    "x_train_t = pipeline.transform(x_train)\n",
    "x_test_t = pipeline.transform(x_test)"
   ]
  },
  {
   "cell_type": "markdown",
   "id": "31493e60",
   "metadata": {},
   "source": [
    "# Guardo preprocess pipeline"
   ]
  },
  {
   "cell_type": "code",
   "execution_count": 16,
   "id": "c042f209",
   "metadata": {},
   "outputs": [],
   "source": [
    "with open(pipeline_path + '/pipeline','wb') as outfile:\n",
    "        pickle.dump(pipeline, outfile)"
   ]
  },
  {
   "cell_type": "markdown",
   "id": "de096b56",
   "metadata": {},
   "source": [
    "# Escribo datasets procesados"
   ]
  },
  {
   "cell_type": "code",
   "execution_count": 17,
   "id": "50377ab0",
   "metadata": {},
   "outputs": [],
   "source": [
    "\n",
    "pd.DataFrame(x_train_t).to_csv(params['x_train_path'], index=False)\n",
    "pd.DataFrame(x_test_t).to_csv(params['x_test_path'], index=False)\n",
    "pd.DataFrame(y_train).to_csv(params['y_train_path'], index=False)\n",
    "pd.DataFrame(y_test).to_csv(params['y_test_path'], index=False)"
   ]
  },
  {
   "cell_type": "code",
   "execution_count": null,
   "id": "61457836",
   "metadata": {},
   "outputs": [],
   "source": []
  }
 ],
 "metadata": {
  "interpreter": {
   "hash": "aee8b7b246df8f9039afb4144a1f6fd8d2ca17a180786b69acc140d282b71a49"
  },
  "kernelspec": {
   "display_name": "Python 3",
   "language": "python",
   "name": "python3"
  },
  "language_info": {
   "codemirror_mode": {
    "name": "ipython",
    "version": 3
   },
   "file_extension": ".py",
   "mimetype": "text/x-python",
   "name": "python",
   "nbconvert_exporter": "python",
   "pygments_lexer": "ipython3",
   "version": "3.8.8"
  }
 },
 "nbformat": 4,
 "nbformat_minor": 5
}
