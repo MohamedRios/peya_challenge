{
 "cells": [
  {
   "cell_type": "code",
   "execution_count": 1,
   "id": "257a10d8",
   "metadata": {},
   "outputs": [],
   "source": [
    "import os"
   ]
  },
  {
   "cell_type": "code",
   "execution_count": 2,
   "id": "d1fef744",
   "metadata": {},
   "outputs": [],
   "source": [
    "# Cambiamos el directorio al root del proyecto\n",
    "os.chdir('../../../')"
   ]
  },
  {
   "cell_type": "code",
   "execution_count": 3,
   "id": "b0736299",
   "metadata": {},
   "outputs": [
    {
     "name": "stdout",
     "output_type": "stream",
     "text": [
      "Directorio: /Users/mohamed.rios/Projects/desafio_peya\n"
     ]
    }
   ],
   "source": [
    "print(\"Directorio: {0}\".format(os.getcwd()))"
   ]
  },
  {
   "cell_type": "code",
   "execution_count": 9,
   "id": "d02da446",
   "metadata": {},
   "outputs": [],
   "source": [
    "import pandas as pd\n",
    "import numpy as np\n",
    "import pickle\n",
    "import yaml\n",
    "from yaml.loader import SafeLoader\n",
    "from sklearn.pipeline import make_pipeline\n",
    "from sklearn.compose import make_column_transformer\n",
    "from sklearn.preprocessing import StandardScaler\n",
    "from sklearn.preprocessing import Normalizer\n",
    "from sklearn.preprocessing import OneHotEncoder\n",
    "from sklearn.preprocessing import OrdinalEncoder\n",
    "from sklearn.model_selection import train_test_split\n",
    "import warnings\n",
    "from utils.preprocess import Pipeline \n",
    "import utils.experiment_1_features as e1\n",
    "warnings.filterwarnings('ignore')"
   ]
  },
  {
   "cell_type": "markdown",
   "id": "ca051549",
   "metadata": {},
   "source": [
    "# Leemos los parámetros del preprocess"
   ]
  },
  {
   "cell_type": "code",
   "execution_count": 5,
   "id": "f0d57332",
   "metadata": {},
   "outputs": [],
   "source": [
    "with open('models/stg/experiment_1/params.yaml') as f:\n",
    "    params = yaml.load(f, Loader=SafeLoader)"
   ]
  },
  {
   "cell_type": "markdown",
   "id": "e6bd1f76",
   "metadata": {},
   "source": [
    "# Lectura del raw dataset"
   ]
  },
  {
   "cell_type": "code",
   "execution_count": 6,
   "id": "a813d32c",
   "metadata": {},
   "outputs": [],
   "source": [
    "df_raw = pd.read_csv(params.get('raw_data_path'))"
   ]
  },
  {
   "cell_type": "code",
   "execution_count": 7,
   "id": "8d7882b5",
   "metadata": {},
   "outputs": [
    {
     "data": {
      "text/html": [
       "<div>\n",
       "<style scoped>\n",
       "    .dataframe tbody tr th:only-of-type {\n",
       "        vertical-align: middle;\n",
       "    }\n",
       "\n",
       "    .dataframe tbody tr th {\n",
       "        vertical-align: top;\n",
       "    }\n",
       "\n",
       "    .dataframe thead th {\n",
       "        text-align: right;\n",
       "    }\n",
       "</style>\n",
       "<table border=\"1\" class=\"dataframe\">\n",
       "  <thead>\n",
       "    <tr style=\"text-align: right;\">\n",
       "      <th></th>\n",
       "      <th>ano_de_construccion</th>\n",
       "      <th>banos</th>\n",
       "      <th>disposicion</th>\n",
       "      <th>dormitorios</th>\n",
       "      <th>estado</th>\n",
       "      <th>garajes</th>\n",
       "      <th>gastos_comunes</th>\n",
       "      <th>m2_de_la_terraza</th>\n",
       "      <th>m2_del_terreno</th>\n",
       "      <th>m2_edificados</th>\n",
       "      <th>price</th>\n",
       "      <th>tipo_propiedad</th>\n",
       "      <th>vivienda_social</th>\n",
       "      <th>zona</th>\n",
       "    </tr>\n",
       "  </thead>\n",
       "  <tbody>\n",
       "    <tr>\n",
       "      <th>0</th>\n",
       "      <td>1991.0</td>\n",
       "      <td>1.0</td>\n",
       "      <td>contrafrente</td>\n",
       "      <td>1.0</td>\n",
       "      <td>excelente estado</td>\n",
       "      <td>0.0</td>\n",
       "      <td>5000.0</td>\n",
       "      <td>0.0</td>\n",
       "      <td>45.0</td>\n",
       "      <td>45.0</td>\n",
       "      <td>150000.0</td>\n",
       "      <td>apartamentos</td>\n",
       "      <td>0.0</td>\n",
       "      <td>punta carretas</td>\n",
       "    </tr>\n",
       "    <tr>\n",
       "      <th>1</th>\n",
       "      <td>2007.0</td>\n",
       "      <td>3.0</td>\n",
       "      <td>NaN</td>\n",
       "      <td>3.0</td>\n",
       "      <td>excelente estado</td>\n",
       "      <td>1.0</td>\n",
       "      <td>0.0</td>\n",
       "      <td>0.0</td>\n",
       "      <td>155.0</td>\n",
       "      <td>125.0</td>\n",
       "      <td>329000.0</td>\n",
       "      <td>casas</td>\n",
       "      <td>0.0</td>\n",
       "      <td>pocitos nuevo</td>\n",
       "    </tr>\n",
       "    <tr>\n",
       "      <th>2</th>\n",
       "      <td>2012.0</td>\n",
       "      <td>3.0</td>\n",
       "      <td>al frente</td>\n",
       "      <td>4.0</td>\n",
       "      <td>excelente estado</td>\n",
       "      <td>2.0</td>\n",
       "      <td>16000.0</td>\n",
       "      <td>0.0</td>\n",
       "      <td>150.0</td>\n",
       "      <td>150.0</td>\n",
       "      <td>650000.0</td>\n",
       "      <td>apartamentos</td>\n",
       "      <td>0.0</td>\n",
       "      <td>punta carretas</td>\n",
       "    </tr>\n",
       "  </tbody>\n",
       "</table>\n",
       "</div>"
      ],
      "text/plain": [
       "   ano_de_construccion  banos   disposicion  dormitorios            estado  \\\n",
       "0               1991.0    1.0  contrafrente          1.0  excelente estado   \n",
       "1               2007.0    3.0           NaN          3.0  excelente estado   \n",
       "2               2012.0    3.0     al frente          4.0  excelente estado   \n",
       "\n",
       "   garajes  gastos_comunes  m2_de_la_terraza  m2_del_terreno  m2_edificados  \\\n",
       "0      0.0          5000.0               0.0            45.0           45.0   \n",
       "1      1.0             0.0               0.0           155.0          125.0   \n",
       "2      2.0         16000.0               0.0           150.0          150.0   \n",
       "\n",
       "      price tipo_propiedad  vivienda_social            zona  \n",
       "0  150000.0   apartamentos              0.0  punta carretas  \n",
       "1  329000.0          casas              0.0   pocitos nuevo  \n",
       "2  650000.0   apartamentos              0.0  punta carretas  "
      ]
     },
     "execution_count": 7,
     "metadata": {},
     "output_type": "execute_result"
    }
   ],
   "source": [
    "df_raw.head(3)"
   ]
  },
  {
   "cell_type": "markdown",
   "id": "9da2fd46",
   "metadata": {},
   "source": [
    "# Preprocess dataset"
   ]
  },
  {
   "cell_type": "code",
   "execution_count": 10,
   "id": "59d28c2d",
   "metadata": {},
   "outputs": [],
   "source": [
    "df_processed = e1.delete_missing_values(df_raw, params)\n",
    "x = df_processed.drop(axis=1, columns=params.get('target'))\n",
    "y = df_processed[params.get('target')]\n",
    "x_train, x_test, y_train, y_test = train_test_split(x, y, test_size=0.25, random_state=0)"
   ]
  },
  {
   "cell_type": "code",
   "execution_count": 11,
   "id": "b111908f",
   "metadata": {},
   "outputs": [],
   "source": [
    "preprocess_f_list = [e1.validate_inputs, e1.create_disposicion_category,\n",
    "                    e1.create_zona_feature, e1.drop_metadata_columns]\n",
    "pipe = Pipeline()\n",
    "pipe.set_f_list(preprocess_f_list)\n",
    "x_train = pipe.apply(df=x_train, params=params)\n",
    "x_test = pipe.apply(df=x_test, params=params)"
   ]
  },
  {
   "cell_type": "markdown",
   "id": "daf04a62",
   "metadata": {},
   "source": [
    "# Scikit pipeline"
   ]
  },
  {
   "cell_type": "code",
   "execution_count": 12,
   "id": "a0ced9ca",
   "metadata": {},
   "outputs": [],
   "source": [
    "ohe = OneHotEncoder()\n",
    "oe = OrdinalEncoder()\n",
    "scaler = StandardScaler()\n",
    "normalizer = Normalizer()\n",
    "column_transformer = make_column_transformer(\n",
    "                (ohe, params.get('non_ordinal_categorical_features')),\n",
    "                (oe, params.get('ordinal_categorical_features')),\n",
    "                (scaler, params.get('numerical_features')),\n",
    "                (normalizer, params.get('numerical_features'))\n",
    ")"
   ]
  },
  {
   "cell_type": "code",
   "execution_count": 13,
   "id": "4d8fb59c",
   "metadata": {},
   "outputs": [],
   "source": [
    "pipeline = make_pipeline(column_transformer)"
   ]
  },
  {
   "cell_type": "code",
   "execution_count": 14,
   "id": "d54ff777",
   "metadata": {},
   "outputs": [
    {
     "data": {
      "text/plain": [
       "Pipeline(steps=[('columntransformer',\n",
       "                 ColumnTransformer(transformers=[('onehotencoder',\n",
       "                                                  OneHotEncoder(),\n",
       "                                                  ['vivienda_social',\n",
       "                                                   'disposicion_categoria',\n",
       "                                                   'disposicion_is_missing',\n",
       "                                                   'tipo_propiedad', 'estado',\n",
       "                                                   'zona_categoria']),\n",
       "                                                 ('ordinalencoder',\n",
       "                                                  OrdinalEncoder(), ['banos']),\n",
       "                                                 ('standardscaler',\n",
       "                                                  StandardScaler(),\n",
       "                                                  ['m2_edificados',\n",
       "                                                   'gastos_comunes']),\n",
       "                                                 ('normalizer', Normalizer(),\n",
       "                                                  ['m2_edificados',\n",
       "                                                   'gastos_comunes'])]))])"
      ]
     },
     "execution_count": 14,
     "metadata": {},
     "output_type": "execute_result"
    }
   ],
   "source": [
    "pipeline.fit(x_train)"
   ]
  },
  {
   "cell_type": "code",
   "execution_count": 15,
   "id": "d6b980cb",
   "metadata": {},
   "outputs": [],
   "source": [
    "x_train_t = pipeline.transform(x_train)\n",
    "x_test_t = pipeline.transform(x_test)"
   ]
  },
  {
   "cell_type": "markdown",
   "id": "31493e60",
   "metadata": {},
   "source": [
    "# Guardo preprocess pipelines"
   ]
  },
  {
   "cell_type": "code",
   "execution_count": 16,
   "id": "c042f209",
   "metadata": {},
   "outputs": [],
   "source": [
    "with open(params.get('pipeline_path') + '/scikit_pipeline','wb') as outfile:\n",
    "        pickle.dump(pipeline, outfile)\n",
    "        \n",
    "        \n",
    "with open(params.get('pipeline_path') + '/pipeline','wb') as outfile:\n",
    "    pickle.dump(pipe, outfile)"
   ]
  },
  {
   "cell_type": "markdown",
   "id": "de096b56",
   "metadata": {},
   "source": [
    "# Escribo datasets procesados"
   ]
  },
  {
   "cell_type": "code",
   "execution_count": 17,
   "id": "50377ab0",
   "metadata": {},
   "outputs": [],
   "source": [
    "\n",
    "pd.DataFrame(x_train_t).to_csv(params['x_train_path'], index=False)\n",
    "pd.DataFrame(x_test_t).to_csv(params['x_test_path'], index=False)\n",
    "pd.DataFrame(y_train).to_csv(params['y_train_path'], index=False)\n",
    "pd.DataFrame(y_test).to_csv(params['y_test_path'], index=False)"
   ]
  }
 ],
 "metadata": {
  "interpreter": {
   "hash": "aee8b7b246df8f9039afb4144a1f6fd8d2ca17a180786b69acc140d282b71a49"
  },
  "kernelspec": {
   "display_name": "Python 3",
   "language": "python",
   "name": "python3"
  },
  "language_info": {
   "codemirror_mode": {
    "name": "ipython",
    "version": 3
   },
   "file_extension": ".py",
   "mimetype": "text/x-python",
   "name": "python",
   "nbconvert_exporter": "python",
   "pygments_lexer": "ipython3",
   "version": "3.8.8"
  }
 },
 "nbformat": 4,
 "nbformat_minor": 5
}
