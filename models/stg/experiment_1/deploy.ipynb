{
 "cells": [
  {
   "cell_type": "code",
   "execution_count": 1,
   "id": "bc9a0708",
   "metadata": {},
   "outputs": [],
   "source": [
    "import yaml\n",
    "from yaml.loader import SafeLoader\n",
    "import os\n",
    "import warnings\n",
    "import pickle\n",
    "\n",
    "warnings.filterwarnings('ignore')"
   ]
  },
  {
   "cell_type": "code",
   "execution_count": 2,
   "id": "27dc9f21",
   "metadata": {},
   "outputs": [],
   "source": [
    "# Cambiamos el directorio de trabajo a la carpeta models\n",
    "os.chdir('../../')"
   ]
  },
  {
   "cell_type": "code",
   "execution_count": 3,
   "id": "82cc30d6",
   "metadata": {},
   "outputs": [
    {
     "name": "stdout",
     "output_type": "stream",
     "text": [
      "Directorio: /Users/mohamed.rios/Projects/desafio_etermax/models\n"
     ]
    }
   ],
   "source": [
    "print(\"Directorio: {0}\".format(os.getcwd()))"
   ]
  },
  {
   "cell_type": "markdown",
   "id": "c26448e6",
   "metadata": {},
   "source": [
    "# Cargamos el modelo a deployar desde el archivo de parámetro y llevamos a prod"
   ]
  },
  {
   "cell_type": "code",
   "execution_count": 4,
   "id": "9ec7a64a",
   "metadata": {},
   "outputs": [],
   "source": [
    "with open('resources.yaml') as f:\n",
    "    resources = yaml.load(f, Loader=SafeLoader)\n",
    "    model_source_path = resources.get('prod_model_path_source')\n",
    "    model_path = resources.get('prod_model_path')\n",
    "    pipeline_source_path = resources.get('prod_pipeline_path_source')\n",
    "    pipeline_path = resources.get('prod_pipeline_path')"
   ]
  },
  {
   "cell_type": "code",
   "execution_count": 5,
   "id": "e22f1324",
   "metadata": {},
   "outputs": [],
   "source": [
    "with open(model_source_path,'rb') as infile:\n",
    "    model = pickle.load(infile)"
   ]
  },
  {
   "cell_type": "code",
   "execution_count": 6,
   "id": "ac30e3fc",
   "metadata": {},
   "outputs": [],
   "source": [
    "with open(model_path,'wb') as outfile:\n",
    "    pickle.dump(model, outfile)"
   ]
  },
  {
   "cell_type": "code",
   "execution_count": 7,
   "id": "8dd901d9",
   "metadata": {},
   "outputs": [],
   "source": [
    "with open(pipeline_source_path,'rb') as infile:\n",
    "    pipe = pickle.load(infile)"
   ]
  },
  {
   "cell_type": "code",
   "execution_count": 8,
   "id": "35d0c0a2",
   "metadata": {},
   "outputs": [],
   "source": [
    "with open(pipeline_path,'wb') as outfile:\n",
    "    pickle.dump(pipe, outfile)"
   ]
  },
  {
   "cell_type": "code",
   "execution_count": null,
   "id": "3d3066e2",
   "metadata": {},
   "outputs": [],
   "source": []
  }
 ],
 "metadata": {
  "kernelspec": {
   "display_name": "Python 3",
   "language": "python",
   "name": "python3"
  },
  "language_info": {
   "codemirror_mode": {
    "name": "ipython",
    "version": 3
   },
   "file_extension": ".py",
   "mimetype": "text/x-python",
   "name": "python",
   "nbconvert_exporter": "python",
   "pygments_lexer": "ipython3",
   "version": "3.8.8"
  }
 },
 "nbformat": 4,
 "nbformat_minor": 5
}
