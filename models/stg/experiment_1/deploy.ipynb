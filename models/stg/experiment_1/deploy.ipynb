{
 "cells": [
  {
   "cell_type": "code",
   "execution_count": 1,
   "id": "2227cb05",
   "metadata": {},
   "outputs": [],
   "source": [
    "import os"
   ]
  },
  {
   "cell_type": "code",
   "execution_count": 2,
   "id": "27dc9f21",
   "metadata": {},
   "outputs": [],
   "source": [
    "# Cambiamos el directorio de trabajo a la carpeta models\n",
    "os.chdir('../../..')"
   ]
  },
  {
   "cell_type": "code",
   "execution_count": 3,
   "id": "82cc30d6",
   "metadata": {},
   "outputs": [
    {
     "name": "stdout",
     "output_type": "stream",
     "text": [
      "Directorio: /Users/mohamed.rios/Projects/desafio_peya\n"
     ]
    }
   ],
   "source": [
    "print(\"Directorio: {0}\".format(os.getcwd()))"
   ]
  },
  {
   "cell_type": "code",
   "execution_count": 4,
   "id": "bc9a0708",
   "metadata": {},
   "outputs": [],
   "source": [
    "import shutil\n",
    "import yaml\n",
    "from yaml.loader import SafeLoader\n",
    "import warnings\n",
    "import pickle\n",
    "from utils.preprocess import Pipeline\n",
    "from utils.experiment_1_features  import *\n",
    "\n",
    "warnings.filterwarnings('ignore')"
   ]
  },
  {
   "cell_type": "markdown",
   "id": "c26448e6",
   "metadata": {},
   "source": [
    "# Cargamos el modelo a deployar desde el archivo de parámetro y llevamos a prod"
   ]
  },
  {
   "cell_type": "code",
   "execution_count": 5,
   "id": "9ec7a64a",
   "metadata": {},
   "outputs": [],
   "source": [
    "with open('models/stg/experiment_1/params.yaml') as f:\n",
    "    params = yaml.load(f, Loader=SafeLoader)"
   ]
  },
  {
   "cell_type": "code",
   "execution_count": 6,
   "id": "e22f1324",
   "metadata": {},
   "outputs": [],
   "source": [
    "with open(params.get('prod_model_path_source'),'rb') as infile:\n",
    "    model = pickle.load(infile)"
   ]
  },
  {
   "cell_type": "code",
   "execution_count": 7,
   "id": "ac30e3fc",
   "metadata": {},
   "outputs": [],
   "source": [
    "with open(params.get('prod_model_path'),'wb') as outfile:\n",
    "    pickle.dump(model, outfile)"
   ]
  },
  {
   "cell_type": "code",
   "execution_count": 8,
   "id": "8dd901d9",
   "metadata": {},
   "outputs": [],
   "source": [
    "with open(params.get('prod_pipeline_path_source'),'rb') as infile:\n",
    "    pipe = pickle.load(infile)"
   ]
  },
  {
   "cell_type": "code",
   "execution_count": 9,
   "id": "35d0c0a2",
   "metadata": {},
   "outputs": [],
   "source": [
    "with open(params.get('prod_pipeline_path'),'wb') as outfile:\n",
    "    pickle.dump(pipe, outfile)"
   ]
  },
  {
   "cell_type": "code",
   "execution_count": 10,
   "id": "3d3066e2",
   "metadata": {},
   "outputs": [],
   "source": [
    "with open(params.get('prod_scikit_pipeline_path_source'),'rb') as infile:\n",
    "    pipe = pickle.load(infile)"
   ]
  },
  {
   "cell_type": "code",
   "execution_count": 11,
   "id": "20fb730e",
   "metadata": {},
   "outputs": [],
   "source": [
    "with open(params.get('prod_scikit_pipeline_path'),'wb') as outfile:\n",
    "    pickle.dump(pipe, outfile)"
   ]
  },
  {
   "cell_type": "code",
   "execution_count": 12,
   "id": "d08e567c",
   "metadata": {},
   "outputs": [
    {
     "data": {
      "text/plain": [
       "'models/prod/params.yaml'"
      ]
     },
     "execution_count": 12,
     "metadata": {},
     "output_type": "execute_result"
    }
   ],
   "source": [
    "shutil.copyfile(params.get('prod_params_path_source'), \n",
    "                params.get('prod_params_path'))"
   ]
  }
 ],
 "metadata": {
  "kernelspec": {
   "display_name": "Python 3",
   "language": "python",
   "name": "python3"
  },
  "language_info": {
   "codemirror_mode": {
    "name": "ipython",
    "version": 3
   },
   "file_extension": ".py",
   "mimetype": "text/x-python",
   "name": "python",
   "nbconvert_exporter": "python",
   "pygments_lexer": "ipython3",
   "version": "3.8.8"
  }
 },
 "nbformat": 4,
 "nbformat_minor": 5
}
